{
 "cells": [
  {
   "cell_type": "markdown",
   "metadata": {},
   "source": [
    "# ARP - 500e Data Merging"
   ]
  },
  {
   "cell_type": "code",
   "execution_count": 1,
   "metadata": {},
   "outputs": [],
   "source": [
    "import pandas as pd\n",
    "import numpy as np\n",
    "import re"
   ]
  },
  {
   "cell_type": "markdown",
   "metadata": {},
   "source": [
    "## Merge Forums Datasets"
   ]
  },
  {
   "cell_type": "code",
   "execution_count": 2,
   "metadata": {},
   "outputs": [
    {
     "data": {
      "text/html": [
       "<div>\n",
       "<style scoped>\n",
       "    .dataframe tbody tr th:only-of-type {\n",
       "        vertical-align: middle;\n",
       "    }\n",
       "\n",
       "    .dataframe tbody tr th {\n",
       "        vertical-align: top;\n",
       "    }\n",
       "\n",
       "    .dataframe thead th {\n",
       "        text-align: right;\n",
       "    }\n",
       "</style>\n",
       "<table border=\"1\" class=\"dataframe\">\n",
       "  <thead>\n",
       "    <tr style=\"text-align: right;\">\n",
       "      <th></th>\n",
       "      <th>Date</th>\n",
       "      <th>URL</th>\n",
       "      <th>Text</th>\n",
       "    </tr>\n",
       "  </thead>\n",
       "  <tbody>\n",
       "    <tr>\n",
       "      <th>0</th>\n",
       "      <td>2023-07-21</td>\n",
       "      <td>https://www.speakev.com/threads/fiat-500e-icon...</td>\n",
       "      <td>hi there we will receive our new fiat 500e ico...</td>\n",
       "    </tr>\n",
       "    <tr>\n",
       "      <th>1</th>\n",
       "      <td>2023-08-17</td>\n",
       "      <td>https://www.speakev.com/threads/what-charging-...</td>\n",
       "      <td>hi there i have ordered a fiat 500e icon on le...</td>\n",
       "    </tr>\n",
       "    <tr>\n",
       "      <th>2</th>\n",
       "      <td>2022-10-22</td>\n",
       "      <td>https://www.speakev.com/threads/fiat-500e-serv...</td>\n",
       "      <td>i had my 2015 fiat 500e shipped from ca a few ...</td>\n",
       "    </tr>\n",
       "    <tr>\n",
       "      <th>3</th>\n",
       "      <td>2023-09-12</td>\n",
       "      <td>https://www.speakev.com/threads/thoughts-on-th...</td>\n",
       "      <td>the latest fiat 500e la prima designio by kahn...</td>\n",
       "    </tr>\n",
       "    <tr>\n",
       "      <th>4</th>\n",
       "      <td>2023-09-26</td>\n",
       "      <td>https://www.speakev.com/threads/fiat-500e-char...</td>\n",
       "      <td>is there a way to delete not just unselect a c...</td>\n",
       "    </tr>\n",
       "  </tbody>\n",
       "</table>\n",
       "</div>"
      ],
      "text/plain": [
       "         Date                                                URL  \\\n",
       "0  2023-07-21  https://www.speakev.com/threads/fiat-500e-icon...   \n",
       "1  2023-08-17  https://www.speakev.com/threads/what-charging-...   \n",
       "2  2022-10-22  https://www.speakev.com/threads/fiat-500e-serv...   \n",
       "3  2023-09-12  https://www.speakev.com/threads/thoughts-on-th...   \n",
       "4  2023-09-26  https://www.speakev.com/threads/fiat-500e-char...   \n",
       "\n",
       "                                                Text  \n",
       "0  hi there we will receive our new fiat 500e ico...  \n",
       "1  hi there i have ordered a fiat 500e icon on le...  \n",
       "2  i had my 2015 fiat 500e shipped from ca a few ...  \n",
       "3  the latest fiat 500e la prima designio by kahn...  \n",
       "4  is there a way to delete not just unselect a c...  "
      ]
     },
     "execution_count": 2,
     "metadata": {},
     "output_type": "execute_result"
    }
   ],
   "source": [
    "# Read csv file\n",
    "df_speakev_clean = pd.read_csv('500e - SpeakEV_Clean.csv')\n",
    "df_speakev_clean.head()"
   ]
  },
  {
   "cell_type": "code",
   "execution_count": 3,
   "metadata": {},
   "outputs": [
    {
     "data": {
      "text/html": [
       "<div>\n",
       "<style scoped>\n",
       "    .dataframe tbody tr th:only-of-type {\n",
       "        vertical-align: middle;\n",
       "    }\n",
       "\n",
       "    .dataframe tbody tr th {\n",
       "        vertical-align: top;\n",
       "    }\n",
       "\n",
       "    .dataframe thead th {\n",
       "        text-align: right;\n",
       "    }\n",
       "</style>\n",
       "<table border=\"1\" class=\"dataframe\">\n",
       "  <thead>\n",
       "    <tr style=\"text-align: right;\">\n",
       "      <th></th>\n",
       "      <th>Date</th>\n",
       "      <th>URL</th>\n",
       "      <th>Text</th>\n",
       "    </tr>\n",
       "  </thead>\n",
       "  <tbody>\n",
       "    <tr>\n",
       "      <th>0</th>\n",
       "      <td>2023-04-21</td>\n",
       "      <td>https://www.pistonheads.com/gassing/topic.asp?...</td>\n",
       "      <td>i think full ev is the only and last chance fo...</td>\n",
       "    </tr>\n",
       "    <tr>\n",
       "      <th>1</th>\n",
       "      <td>2023-04-21</td>\n",
       "      <td>https://www.pistonheads.com/gassing/topic.asp?...</td>\n",
       "      <td>range rovers of various sizes really are the d...</td>\n",
       "    </tr>\n",
       "    <tr>\n",
       "      <th>2</th>\n",
       "      <td>2023-04-21</td>\n",
       "      <td>https://www.pistonheads.com/gassing/topic.asp?...</td>\n",
       "      <td>thats it in a nutshellfor as long as anyone ca...</td>\n",
       "    </tr>\n",
       "    <tr>\n",
       "      <th>3</th>\n",
       "      <td>2023-04-21</td>\n",
       "      <td>https://www.pistonheads.com/gassing/topic.asp?...</td>\n",
       "      <td>great news just make it beautiful and you will...</td>\n",
       "    </tr>\n",
       "    <tr>\n",
       "      <th>4</th>\n",
       "      <td>2023-04-21</td>\n",
       "      <td>https://www.pistonheads.com/gassing/topic.asp?...</td>\n",
       "      <td>hear hear im sad to see the xj go wonder what ...</td>\n",
       "    </tr>\n",
       "  </tbody>\n",
       "</table>\n",
       "</div>"
      ],
      "text/plain": [
       "         Date                                                URL  \\\n",
       "0  2023-04-21  https://www.pistonheads.com/gassing/topic.asp?...   \n",
       "1  2023-04-21  https://www.pistonheads.com/gassing/topic.asp?...   \n",
       "2  2023-04-21  https://www.pistonheads.com/gassing/topic.asp?...   \n",
       "3  2023-04-21  https://www.pistonheads.com/gassing/topic.asp?...   \n",
       "4  2023-04-21  https://www.pistonheads.com/gassing/topic.asp?...   \n",
       "\n",
       "                                                Text  \n",
       "0  i think full ev is the only and last chance fo...  \n",
       "1  range rovers of various sizes really are the d...  \n",
       "2  thats it in a nutshellfor as long as anyone ca...  \n",
       "3  great news just make it beautiful and you will...  \n",
       "4  hear hear im sad to see the xj go wonder what ...  "
      ]
     },
     "execution_count": 3,
     "metadata": {},
     "output_type": "execute_result"
    }
   ],
   "source": [
    "# Read csv file\n",
    "df_ph_clean = pd.read_csv('500e - PistonHeads_Clean.csv')\n",
    "df_ph_clean.head()"
   ]
  },
  {
   "cell_type": "code",
   "execution_count": 4,
   "metadata": {},
   "outputs": [],
   "source": [
    "# Merge the two dataframes\n",
    "df_combined = pd.concat([df_speakev_clean, df_ph_clean], ignore_index=True)"
   ]
  },
  {
   "cell_type": "markdown",
   "metadata": {},
   "source": [
    "# 500e - Potential Customers (Merge Forums with YouTube Comments)"
   ]
  },
  {
   "cell_type": "code",
   "execution_count": 5,
   "metadata": {},
   "outputs": [
    {
     "data": {
      "text/plain": [
       "(         Date                                                URL  \\\n",
       " 0  2023-07-21  https://www.speakev.com/threads/fiat-500e-icon...   \n",
       " 1  2023-08-17  https://www.speakev.com/threads/what-charging-...   \n",
       " 2  2022-10-22  https://www.speakev.com/threads/fiat-500e-serv...   \n",
       " 3  2023-09-12  https://www.speakev.com/threads/thoughts-on-th...   \n",
       " 4  2023-09-26  https://www.speakev.com/threads/fiat-500e-char...   \n",
       " \n",
       "                                                 Text  \n",
       " 0  hi there we will receive our new fiat 500e ico...  \n",
       " 1  hi there i have ordered a fiat 500e icon on le...  \n",
       " 2  i had my 2015 fiat 500e shipped from ca a few ...  \n",
       " 3  the latest fiat 500e la prima designio by kahn...  \n",
       " 4  is there a way to delete not just unselect a c...  ,\n",
       "          Date           ID                                               Text\n",
       " 0  2024-05-04  0kDbvxpjLZs  9 seconds for an electric car thats especially...\n",
       " 1  2024-02-16  0kDbvxpjLZs  good honest review thanks like the car im in a...\n",
       " 2  2024-01-06  0kDbvxpjLZs  this is a genius car this is a car that you do...\n",
       " 3  2023-10-21  0kDbvxpjLZs  got a twinair mito done 60k in it its great th...\n",
       " 4  2023-09-16  0kDbvxpjLZs  no spare wheel is a dealbreaker i love that ga...)"
      ]
     },
     "execution_count": 5,
     "metadata": {},
     "output_type": "execute_result"
    }
   ],
   "source": [
    "# Copy the dataframe\n",
    "df_forums = df_combined.copy()\n",
    "df_comments = pd.read_csv('500e - YouTube Comments_Clean.csv')\n",
    "\n",
    "df_forums.head(), df_comments.head()"
   ]
  },
  {
   "cell_type": "markdown",
   "metadata": {},
   "source": [
    "Merge the two dataframes:"
   ]
  },
  {
   "cell_type": "code",
   "execution_count": 6,
   "metadata": {},
   "outputs": [
    {
     "name": "stdout",
     "output_type": "stream",
     "text": [
      "         Date   Source                                               Text\n",
      "0  2023-07-21  SpeakEV  hi there we will receive our new fiat 500e ico...\n",
      "1  2023-08-17  SpeakEV  hi there i have ordered a fiat 500e icon on le...\n",
      "2  2022-10-22  SpeakEV  i had my 2015 fiat 500e shipped from ca a few ...\n",
      "3  2023-09-12  SpeakEV  the latest fiat 500e la prima designio by kahn...\n",
      "4  2023-09-26  SpeakEV  is there a way to delete not just unselect a c...\n"
     ]
    }
   ],
   "source": [
    "# Define the source based on URL for forums\n",
    "def get_forum_source(url):\n",
    "    if 'speakev.com' in url:\n",
    "        return 'SpeakEV'\n",
    "    elif 'pistonheads.com' in url:\n",
    "        return 'PistonHeads'\n",
    "    else:\n",
    "        return 'Unknown'\n",
    "\n",
    "# Apply the source definition to the forums dataset\n",
    "df_forums['Source'] = df_forums['URL'].apply(get_forum_source)\n",
    "\n",
    "# For YouTube comments, the source is always 'YouTube Comment'\n",
    "df_comments['Source'] = 'YouTube Comment'\n",
    "\n",
    "# Select and rename columns to match the desired final dataset\n",
    "df_forums = df_forums.rename(columns={'Date': 'Date', 'Text': 'Text'})\n",
    "df_forums = df_forums[['Date', 'Source', 'Text']]\n",
    "\n",
    "df_comments = df_comments.rename(columns={'Date': 'Date', 'Comment': 'Text'})\n",
    "df_comments = df_comments[['Date', 'Source', 'Text']]\n",
    "\n",
    "# Merge the two datasets\n",
    "df_merge = pd.concat([df_forums, df_comments], ignore_index=True)\n",
    "\n",
    "# Display the first few rows of the final dataframe\n",
    "print(df_merge.head())\n"
   ]
  },
  {
   "cell_type": "markdown",
   "metadata": {},
   "source": [
    "## Filter to Starting From March 2020"
   ]
  },
  {
   "cell_type": "code",
   "execution_count": 7,
   "metadata": {},
   "outputs": [
    {
     "data": {
      "text/html": [
       "<div>\n",
       "<style scoped>\n",
       "    .dataframe tbody tr th:only-of-type {\n",
       "        vertical-align: middle;\n",
       "    }\n",
       "\n",
       "    .dataframe tbody tr th {\n",
       "        vertical-align: top;\n",
       "    }\n",
       "\n",
       "    .dataframe thead th {\n",
       "        text-align: right;\n",
       "    }\n",
       "</style>\n",
       "<table border=\"1\" class=\"dataframe\">\n",
       "  <thead>\n",
       "    <tr style=\"text-align: right;\">\n",
       "      <th></th>\n",
       "      <th>Date</th>\n",
       "      <th>Source</th>\n",
       "      <th>Text</th>\n",
       "    </tr>\n",
       "  </thead>\n",
       "  <tbody>\n",
       "    <tr>\n",
       "      <th>0</th>\n",
       "      <td>2023-07-21</td>\n",
       "      <td>SpeakEV</td>\n",
       "      <td>hi there we will receive our new fiat 500e ico...</td>\n",
       "    </tr>\n",
       "    <tr>\n",
       "      <th>1</th>\n",
       "      <td>2023-08-17</td>\n",
       "      <td>SpeakEV</td>\n",
       "      <td>hi there i have ordered a fiat 500e icon on le...</td>\n",
       "    </tr>\n",
       "    <tr>\n",
       "      <th>2</th>\n",
       "      <td>2022-10-22</td>\n",
       "      <td>SpeakEV</td>\n",
       "      <td>i had my 2015 fiat 500e shipped from ca a few ...</td>\n",
       "    </tr>\n",
       "    <tr>\n",
       "      <th>3</th>\n",
       "      <td>2023-09-12</td>\n",
       "      <td>SpeakEV</td>\n",
       "      <td>the latest fiat 500e la prima designio by kahn...</td>\n",
       "    </tr>\n",
       "    <tr>\n",
       "      <th>4</th>\n",
       "      <td>2023-09-26</td>\n",
       "      <td>SpeakEV</td>\n",
       "      <td>is there a way to delete not just unselect a c...</td>\n",
       "    </tr>\n",
       "  </tbody>\n",
       "</table>\n",
       "</div>"
      ],
      "text/plain": [
       "         Date   Source                                               Text\n",
       "0  2023-07-21  SpeakEV  hi there we will receive our new fiat 500e ico...\n",
       "1  2023-08-17  SpeakEV  hi there i have ordered a fiat 500e icon on le...\n",
       "2  2022-10-22  SpeakEV  i had my 2015 fiat 500e shipped from ca a few ...\n",
       "3  2023-09-12  SpeakEV  the latest fiat 500e la prima designio by kahn...\n",
       "4  2023-09-26  SpeakEV  is there a way to delete not just unselect a c..."
      ]
     },
     "execution_count": 7,
     "metadata": {},
     "output_type": "execute_result"
    }
   ],
   "source": [
    "# Copy the final dataframe to a new variable\n",
    "df_500 = df_merge.copy()\n",
    "df_500.head()"
   ]
  },
  {
   "cell_type": "code",
   "execution_count": 8,
   "metadata": {},
   "outputs": [
    {
     "name": "stdout",
     "output_type": "stream",
     "text": [
      "2011-12-07 00:00:00\n",
      "2024-07-13 00:00:00\n"
     ]
    }
   ],
   "source": [
    "# Check date range of the dataset\n",
    "df_500['Date'] = pd.to_datetime(df_500['Date'])\n",
    "print(df_500['Date'].min())\n",
    "print(df_500['Date'].max())"
   ]
  },
  {
   "cell_type": "code",
   "execution_count": 9,
   "metadata": {},
   "outputs": [
    {
     "name": "stdout",
     "output_type": "stream",
     "text": [
      "2020-03-14 00:00:00\n",
      "2024-07-13 00:00:00\n"
     ]
    }
   ],
   "source": [
    "# Filter the data to start from March 2020\n",
    "df_500_filtered = df_500[df_500['Date'] >= '2020-03-01']\n",
    "print(df_500_filtered['Date'].min())\n",
    "print(df_500_filtered['Date'].max())"
   ]
  },
  {
   "cell_type": "code",
   "execution_count": 11,
   "metadata": {},
   "outputs": [],
   "source": [
    "# Save as a new CSV file\n",
    "df_500_filtered.to_csv('500e - Potential Customers.csv', index=False)"
   ]
  }
 ],
 "metadata": {
  "kernelspec": {
   "display_name": "smm695",
   "language": "python",
   "name": "python3"
  },
  "language_info": {
   "codemirror_mode": {
    "name": "ipython",
    "version": 3
   },
   "file_extension": ".py",
   "mimetype": "text/x-python",
   "name": "python",
   "nbconvert_exporter": "python",
   "pygments_lexer": "ipython3",
   "version": "3.10.14"
  }
 },
 "nbformat": 4,
 "nbformat_minor": 2
}
