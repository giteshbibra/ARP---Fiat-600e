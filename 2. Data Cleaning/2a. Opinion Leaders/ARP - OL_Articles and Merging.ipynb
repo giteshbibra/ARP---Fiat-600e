{
 "cells": [
  {
   "cell_type": "markdown",
   "metadata": {},
   "source": [
    "# 1. Articles - Data Collection and Cleaning & 2. Merging into Opininon Leaders Datasets"
   ]
  },
  {
   "cell_type": "markdown",
   "metadata": {},
   "source": [
    "# 1. Data Collection & Cleaning - Articles"
   ]
  },
  {
   "cell_type": "code",
   "execution_count": 1,
   "metadata": {},
   "outputs": [],
   "source": [
    "import pandas as pd\n",
    "from datetime import datetime\n",
    "import requests.auth as auth\n",
    "import requests\n",
    "from bs4 import BeautifulSoup\n",
    "import time\n",
    "import re\n",
    "from nltk.corpus import stopwords\n",
    "from nltk.stem import WordNetLemmatizer\n",
    "from nltk.tokenize import word_tokenize\n",
    "from textblob import TextBlob\n",
    "from collections import Counter\n",
    "import nltk\n",
    "from selenium import webdriver\n",
    "from selenium.webdriver import ActionChains\n",
    "from selenium.webdriver.common.by import By\n",
    "from selenium.webdriver.common.keys import Keys\n",
    "from selenium.webdriver.support.ui import WebDriverWait\n",
    "from selenium.webdriver.support import expected_conditions as EC\n",
    "from selenium.webdriver.chrome.service import Service\n",
    "from selenium.webdriver.chrome.options import Options"
   ]
  },
  {
   "cell_type": "markdown",
   "metadata": {},
   "source": [
    "## 1.1 Articles - 600e"
   ]
  },
  {
   "cell_type": "markdown",
   "metadata": {},
   "source": [
    "### 1.1.1 Scraping"
   ]
  },
  {
   "cell_type": "code",
   "execution_count": 2,
   "metadata": {},
   "outputs": [],
   "source": [
    "# open the browser and get the page for the Fiat 600e search\n",
    "driver = webdriver.Chrome() # Open a new Chrome window\n",
    "url600 = 'https://news.google.com/search?q=fiat%20600e%20-abarth&hl=en-GB&gl=GB&ceid=GB%3Aen' # URL for Google Trends\n",
    "driver.get(url600) # Open the URL\n",
    "soup = BeautifulSoup(driver.page_source, \"html.parser\") # Parse the HTML of the page\n",
    "\n",
    "# Find accept cookies button and click it\n",
    "cookie = driver.find_element(By.XPATH,'//*[@id=\"yDmH0d\"]/c-wiz/div/div/div/div[2]/div[1]/div[3]/div[1]/div[1]/form[2]/div/div/button')\n",
    "cookie.click()"
   ]
  },
  {
   "cell_type": "code",
   "execution_count": 3,
   "metadata": {},
   "outputs": [],
   "source": [
    "# Scroll and load more articles\n",
    "def scroll_and_load(driver, pause_time=2, max_scrolls=20):\n",
    "    for _ in range(max_scrolls):\n",
    "        driver.execute_script(\"window.scrollTo(0, document.body.scrollHeight);\")\n",
    "        time.sleep(pause_time)\n",
    "\n",
    "# Scroll and load all articles\n",
    "scroll_and_load(driver)\n",
    "\n",
    "# Parse the loaded page with BeautifulSoup\n",
    "soup = BeautifulSoup(driver.page_source, \"html.parser\")"
   ]
  },
  {
   "cell_type": "code",
   "execution_count": 4,
   "metadata": {},
   "outputs": [
    {
     "name": "stdout",
     "output_type": "stream",
     "text": [
      "('https://news.google.com/articles/CBMiaWh0dHBzOi8vd3d3LmF1dG9leHByZXNzLmNvLnVrL2ZpYXQvNjAwLzM2Mzg0MS9maWF0LTYwMGUtbGEtcHJpbWEtbG9uZy10ZXJtLXRlc3QtdXJiYW4tZXYtaGFzLXBsZW50eS1mbGFpctIBAA?hl=en-GB&gl=GB&ceid=GB%3Aen', '2024-07-22T14:04:01Z')\n",
      "('https://news.google.com/articles/CBMiT2h0dHBzOi8vYXV0b2dlYXIucHQvZW4vZ2xvYmFsLXNhbGVzLW9mLWZpYXQtaW5jcmVhc2VkLWJ5LTItMi1pbi10aGUtZmlyc3QtaGFsZi_SAQA?hl=en-GB&gl=GB&ceid=GB%3Aen', '2024-07-30T10:22:58Z')\n",
      "('https://news.google.com/articles/CBMiNmh0dHBzOi8vd3d3LnRvcGdlYXIuY29tL2Nhci1yZXZpZXdzL2ZpYXQvNjAwZS9pbnRlcmlvctIBAA?hl=en-GB&gl=GB&ceid=GB%3Aen', '2024-03-05T08:00:00Z')\n",
      "('https://news.google.com/articles/CBMikwFodHRwczovL3d3dy50aGlzaXNtb25leS5jby51ay9tb25leS9lbGVjdHJpY2NhcnMvYXJ0aWNsZS0xMzE4MjMxMy9GaWF0LTYwMGUtcmV2aWV3LU5ldy0zM2stZWxlY3RyaWMtZmFtaWx5LWNhci1jb25zaWRlci1jaGVhcGVyLWh5YnJpZC12ZXJzaW9uLmh0bWzSAQA?hl=en-GB&gl=GB&ceid=GB%3Aen', '2024-03-12T07:00:00Z')\n",
      "('https://news.google.com/articles/CBMiQWh0dHBzOi8vd3d3LndhbGxwYXBlci5jb20vdHJhbnNwb3J0YXRpb24vZmlhdC01MDBlLWdpb3JnaW8tYXJtYW5p0gEA?hl=en-GB&gl=GB&ceid=GB%3Aen', '2024-07-15T07:00:00Z')\n",
      "('https://news.google.com/articles/CBMia2h0dHBzOi8vd3d3LmNhcm1hZ2F6aW5lLmNvLnVrL2Nhci1yZXZpZXdzL2NvbXBhcmlzb24vMjAyMy9maWF0LTYwMGUtdnMtaHl1bmRhaS1rb25hLWVsZWN0cmljLXZzLWhvbmRhLWVueTEv0gEA?hl=en-GB&gl=GB&ceid=GB%3Aen', '2023-12-22T08:00:00Z')\n",
      "('https://news.google.com/articles/CBMiTmh0dHBzOi8vd3d3LndoaWNoLmNvLnVrL25ld3MvYXJ0aWNsZS9maWF0LTY2MGUtZmlyc3QtZHJpdmUtcmV2aWV3LWFkeEdpMWs4NG1pRtIBAA?hl=en-GB&gl=GB&ceid=GB%3Aen', '2023-10-01T07:00:00Z')\n",
      "('https://news.google.com/articles/CBMiX2h0dHBzOi8vd3d3LnRlbGVncmFwaC5jby51ay9jYXJzL2ZpYXQvZmlhdC02MDBlLXJldmlldy1zcGFjaW91cy1jb21meS1idXQtbm90LXdpdGhvdXQtcHJvYmxlbXMv0gEA?hl=en-GB&gl=GB&ceid=GB%3Aen', '2023-10-04T07:00:00Z')\n",
      "('https://news.google.com/articles/CBMiWWh0dHBzOi8vd3d3LmNhcnN1ay5uZXQvZmlhdC02MDAtaHlicmlkLWFycml2ZXMtYW5kLWNvc3RzLTEway1sZXNzLXRoYW4tdGhlLWVsZWN0cmljLTYwMGUv0gEA?hl=en-GB&gl=GB&ceid=GB%3Aen', '2024-03-06T08:00:00Z')\n",
      "('https://news.google.com/articles/CBMiNWh0dHBzOi8vd3d3LnRvcGdlYXIuY29tL2Nhci1yZXZpZXdzL2ZpYXQvNjAwZS9kcml2aW5n0gEA?hl=en-GB&gl=GB&ceid=GB%3Aen', '2024-03-05T08:00:00Z')\n",
      "('https://news.google.com/articles/CBMiJ2h0dHBzOi8vd3d3LmhvbmVzdGpvaG4uY28udWsvZmlhdC82MDBlL9IBAA?hl=en-GB&gl=GB&ceid=GB%3Aen', '2023-09-27T15:21:33Z')\n",
      "('https://news.google.com/articles/CBMiPGh0dHBzOi8vd3d3LnRoZXN1bi5jby51ay9tb3RvcnMvMjQxNzkxMjAvZmlhdC02MDBlLWV2LXJhbmdlL9IBQGh0dHBzOi8vd3d3LnRoZXN1bi5jby51ay9tb3RvcnMvMjQxNzkxMjAvZmlhdC02MDBlLWV2LXJhbmdlL2FtcC8?hl=en-GB&gl=GB&ceid=GB%3Aen', '2023-09-28T07:00:00Z')\n",
      "('https://news.google.com/articles/CBMiT2h0dHBzOi8vd3d3LnRoZWNhcmV4cGVydC5jby51ay9lbGVjdHJpYy1maWF0LTYwMGUtY3Jvc3NvdmVyLWF2YWlsYWJsZS10by1vcmRlci_SAQA?hl=en-GB&gl=GB&ceid=GB%3Aen', '2023-09-20T07:00:00Z')\n",
      "('https://news.google.com/articles/CBMiYGh0dHBzOi8vd3d3LmNhcmJ1eWVyLmNvLnVrL25ld3MvMzA0ODMxL25ldy1maWF0LTYwMGUtZWxlY3RyaWMtc3V2LXRvLXN0YXJ0LWZyb20tanVzdC11bmRlci1wczMza9IBAA?hl=en-GB&gl=GB&ceid=GB%3Aen', '2023-09-18T15:42:24Z')\n",
      "('https://news.google.com/articles/CBMiZGh0dHBzOi8vd3d3LmNhcnNjb29wcy5jb20vMjAyMy8xMS9maWF0LWRpdGNoZXMtdGlwby1pbi10aGUtdWstYnV0LXNob3BwZXJzLWNhbi1nZXQtdGhlLTYwMGUtaW5zdGVhZC_SAQA?hl=en-GB&gl=GB&ceid=GB%3Aen', '2023-11-06T08:00:00Z')\n",
      "('https://news.google.com/articles/CBMiKWh0dHBzOi8vd3d3LmRyaXZpbmdlbGVjdHJpYy5jb20vZmlhdC82MDBl0gEA?hl=en-GB&gl=GB&ceid=GB%3Aen', '2023-09-22T09:41:02Z')\n",
      "('https://news.google.com/articles/CBMiYGh0dHBzOi8vd3d3LmVsZWN0cml2ZS5jb20vMjAyMy8wOS8xMi9zdGVsbGFudGlzLWtpY2tzLW9mZi1wcm9kdWN0aW9uLW9mLXRoZS1maWF0LTYwMGUtaW4tcG9sYW5kL9IBAA?hl=en-GB&gl=GB&ceid=GB%3Aen', '2023-09-12T07:00:00Z')\n",
      "('https://news.google.com/articles/CBMia2h0dHBzOi8vd3d3LnNocm9wc2hpcmVzdGFyLmNvbS9uZXdzL21vdG9ycy8yMDIzLzA5LzE5L2ZpYXQtNjAwZS10by1nby1vbi1zYWxlLW5leHQtbW9udGgtc3RhcnRpbmctYXQtMzI5OTUv0gEA?hl=en-GB&gl=GB&ceid=GB%3Aen', '2023-09-19T07:00:00Z')\n",
      "('https://news.google.com/articles/CBMibmh0dHBzOi8vd3d3LnRoaXNpc21vbmV5LmNvLnVrL21vbmV5L2VsZWN0cmljY2Fycy9hcnRpY2xlLTEyMjYzMDE3L1RoZS1GaWF0LTYwMC1ub3Qta25vdy02MDBlLVNVVi11bnZlaWxlZC5odG1s0gEA?hl=en-GB&gl=GB&ceid=GB%3Aen', '2023-12-04T08:00:00Z')\n",
      "('https://news.google.com/articles/CBMiNGh0dHBzOi8vd3d3LnRvcGdlYXIuY29tL2Nhci1yZXZpZXdzL2ZpYXQvNjAwZS9idXlpbmfSAQA?hl=en-GB&gl=GB&ceid=GB%3Aen', '2024-03-05T08:00:00Z')\n",
      "('https://news.google.com/articles/CBMihAFodHRwczovL3d3dy5pbmRlcGVuZGVudC5pZS9saWZlL21vdG9yaW5nL2Nhci1yZXZpZXdzL2ZpYXQtNjAwLXJldmlldy1mYWItcmV2YW1wLXdpbGwtbGVhdmUteW91LXNwb2lsdC1pbi1ldi1vci1oeWJyaWQvYTI0OTI1NTk1Lmh0bWzSAQA?hl=en-GB&gl=GB&ceid=GB%3Aen', '2024-06-11T07:00:00Z')\n",
      "('https://news.google.com/articles/CBMib2h0dHBzOi8vd3d3LmNsdWJhbGZhLml0L2VuL2ZpYXQtNjAwZS1zdGlsbC1zdHJ1Z2dsZXMtd2l0aC1zYWxlcy1pbi1ldXJvcGUtaXQtc2VsbHMtbGVzcy10aGFuLXRoZS1maWF0LXRpcG8tNTkzNNIBAA?hl=en-GB&gl=GB&ceid=GB%3Aen', '2024-06-24T07:00:00Z')\n",
      "('https://news.google.com/articles/CBMiSWh0dHBzOi8vZXVyb3BlLmF1dG9uZXdzLmNvbS9hdXRvbWFrZXJzL2ZpYXQtZXYtbWF0Y2gtcm9sbG91dC1qZWVwLXNpYmxpbmfSAQA?hl=en-GB&gl=GB&ceid=GB%3Aen', '2023-09-26T07:00:00Z')\n",
      "('https://news.google.com/articles/CBMiZ2h0dHBzOi8vamVyc2V5ZXZlbmluZ3Bvc3QuY29tL21vdG9yaW5nLzIwMjMvMDkvMTkvZmlhdC02MDBlLXRvLWdvLW9uLXNhbGUtbmV4dC1tb250aC1zdGFydGluZy1hdC0zMjk5NS_SAQA?hl=en-GB&gl=GB&ceid=GB%3Aen', '2023-09-19T07:00:00Z')\n",
      "('https://news.google.com/articles/CBMiU2h0dHBzOi8vd3d3LmNsdWJhbGZhLml0L2VuL2ZpYXQtNjAwZS1pcy1ub3ctYXZhaWxhYmxlLWluLWEtbmV3LWV1cm9wZWFuLW1hcmtldC0xMzA20gEA?hl=en-GB&gl=GB&ceid=GB%3Aen', '2024-01-15T08:00:00Z')\n",
      "('https://news.google.com/articles/CBMiVmh0dHBzOi8vd3d3LnRvcGdlYXIuY29tL2Nhci1uZXdzL2ZpcnN0LWxvb2svZmlhdHMtbmV3LWVsZWN0cmljLXN1di1oYXMtb2xkLWJhZGdlLWZyb2500gEA?hl=en-GB&gl=GB&ceid=GB%3Aen', '2023-07-04T07:00:00Z')\n",
      "('https://news.google.com/articles/CBMiSWh0dHBzOi8vd3d3LmNsdWJhbGZhLml0L2VuL2ZpYXQtNjAwZS1uYW1lZC1jYXItb2YtdGhlLXllYXItYnktY2Fyd293LTEwMTHSAQA?hl=en-GB&gl=GB&ceid=GB%3Aen', '2023-12-12T08:00:00Z')\n",
      "('https://news.google.com/articles/CBMiUGh0dHBzOi8vd3d3LnRoZXN1bi5jby51ay9tb3RvcnMvMjQ2MzU4ODgvZmlhdC10aXBvLWRpc2NvbnRpbnVlZC1yZXBsYWNlLTYwMGUtZXYv0gFUaHR0cHM6Ly93d3cudGhlc3VuLmNvLnVrL21vdG9ycy8yNDYzNTg4OC9maWF0LXRpcG8tZGlzY29udGludWVkLXJlcGxhY2UtNjAwZS1ldi9hbXAv?hl=en-GB&gl=GB&ceid=GB%3Aen', '2023-11-05T07:00:00Z')\n",
      "('https://news.google.com/articles/CBMiWmh0dHBzOi8vd3d3LmNsdWJhbGZhLml0L2VuL2ZpYXQtNjAwZS1pbi0yMDI0LW1pZ2h0LWxhbmQtaW4tYW5vdGhlci1zaWduaWZpY2FudC1tYXJrZXQtMTA5MdIBAA?hl=en-GB&gl=GB&ceid=GB%3Aen', '2023-12-29T08:00:00Z')\n",
      "('https://news.google.com/articles/CBMiUWh0dHBzOi8vZXVyb3BlLmF1dG9uZXdzLmNvbS9ibG9ncy9jaXRyb2VuLW5ldy1lLWMzLWV2LXB1dHMtc3RlbGxhbnRpcy1hdHRhY2stbW9kZdIBAA?hl=en-GB&gl=GB&ceid=GB%3Aen', '2023-10-17T07:00:00Z')\n",
      "('https://news.google.com/articles/CBMiemh0dHBzOi8vd3d3LmNhcnNjb29wcy5jb20vMjAyMy8wOS90aGUtMjAyNC1maWF0LTYwMC1oeWJyaWQtY29tYmluZXMtMjgtaHAtZWxlY3RyaWMtbW90b3Itd2l0aC05OC1ocC10aHJlZS1jeWxpbmRlci1lbmdpbmUv0gEA?hl=en-GB&gl=GB&ceid=GB%3Aen', '2023-09-18T07:00:00Z')\n",
      "('https://news.google.com/articles/CBMilQFodHRwczovL3d3dy5vZmZhbHlleHByZXNzLmllL25ld3MvbW90b3JpbmctbmV3cy8xMzAzOTc3L2ZpcnN0LWRyaXZlLXRoZS1uZXctZmlhdC02MDBlLWJyaW5ncy1zdHlsZS1hbmQtdmFsdWUtdG8tdGhlLWNvbXBhY3QtZWxlY3RyaWMtY2FyLXNlZ21lbnQuaHRtbNIBAA?hl=en-GB&gl=GB&ceid=GB%3Aen', '2023-09-22T07:00:00Z')\n",
      "('https://news.google.com/articles/CBMihQFodHRwczovL3d3dy5hdXRvZXZvbHV0aW9uLmNvbS9uZXdzL3JlYWwtd29ybGQtcmFuZ2UtdGVzdC13aXRoLXRoZS10b3AtMTEtZXZzLW9mLXRoZS1tb21lbnQtdGVhY2hlcy11cy1hbi1pbXBvcnRhbnQtbGVzc29uLTIyODMwNy5odG1s0gEA?hl=en-GB&gl=GB&ceid=GB%3Aen', '2024-01-27T08:00:00Z')\n",
      "('https://news.google.com/articles/CBMiZWh0dHBzOi8vd3d3LmF1dG9tb3RpdmV3b3JsZC5jb20vbmV3cy1yZWxlYXNlcy9uZXctZmlhdC02MDBlLWZpYXRzLWVsZWN0cmljLWNvbWViYWNrLXRvLXRoZS1iLXNlZ21lbnQv0gEA?hl=en-GB&gl=GB&ceid=GB%3Aen', '2023-07-04T07:00:00Z')\n",
      "('https://news.google.com/articles/CBMiVmh0dHBzOi8vd3d3LmNhcnNjb29wcy5jb20vMjAyMy8xMi8yMDI1LWZpYXQtcGFuZGEtZXYtdG8tYmUtcmVwb3J0ZWRseS1idWlsdC1pbi1zZXJiaWEv0gEA?hl=en-GB&gl=GB&ceid=GB%3Aen', '2023-12-05T08:00:00Z')\n",
      "('https://news.google.com/articles/CBMiSWh0dHBzOi8vd3d3LmRyaXZlLWVsZWN0cmljLmNvLnVrL25ld3MvZmlhdC11bnZlaWxzLXRoZS1uZXctZmlhdC02MDBlLXN1di_SAQA?hl=en-GB&gl=GB&ceid=GB%3Aen', '2023-07-13T07:00:00Z')\n",
      "('https://news.google.com/articles/CBMiHmh0dHBzOi8vdm9pLmlkL2ZyL21vYmlsLzI4NjU0OdIBHGh0dHBzOi8vdm9pLmlkL2ZyL2FtcC8yODY1NDk?hl=en-GB&gl=GB&ceid=GB%3Aen', '2023-12-29T11:00:24Z')\n",
      "('https://news.google.com/articles/CBMiJ2h0dHBzOi8vd3d3LmF1dG9ldm9sdXRpb24uY29tL2ZpYXQvNjAwL9IBAA?hl=en-GB&gl=GB&ceid=GB%3Aen', '2023-08-21T07:00:00Z')\n",
      "('https://news.google.com/articles/CBMiaGh0dHBzOi8vd3d3LnRvcGdlYXIuY29tL2Nhci1uZXdzL2VsZWN0cmljL2ZpYXQtZHVua2VkLWl0cy1jZW8tdmF0LW9yYW5nZS1wYWludC11bnZlaWwtbmV3LTYwMGUtY3Jvc3NvdmVy0gEA?hl=en-GB&gl=GB&ceid=GB%3Aen', '2023-06-22T07:00:00Z')\n",
      "('https://news.google.com/articles/CBMiSGh0dHBzOi8vY2FyYnV6ei5jb20vbmV3cy9maWF0LTYwMC1yZXZlYWxlZC1pbi1oeWJyaWQtYW5kLWVsZWN0cmljLWZvcm1zL9IBAA?hl=en-GB&gl=GB&ceid=GB%3Aen', '2023-09-19T07:00:00Z')\n",
      "('https://news.google.com/articles/CBMiXmh0dHBzOi8vd3d3LmJ1c2luZXNzcG9zdC5pZS9saWZlLWFydHMvbW90b3JpbmctZmlhdC10dXJucy1vbi10aGUtY2hhcm0td2l0aC1uZXctZWxlY3RyaWMtNjAwZS_SAQA?hl=en-GB&gl=GB&ceid=GB%3Aen', '2023-10-05T07:00:00Z')\n",
      "('https://news.google.com/articles/CBMiamh0dHBzOi8vY2FyZGVhbGVybWFnYXppbmUuY28udWsvcHVibGlzaC9maWF0LWFkZHMtdG8taXRzLWVsZWN0cmljLW9mZmVyaW5nLXdpdGgtcmVsZWFzZS1vZi1uZXctNjAwZS8yODY0NzTSAQA?hl=en-GB&gl=GB&ceid=GB%3Aen', '2023-07-05T07:00:00Z')\n",
      "('https://news.google.com/articles/CBMiaGh0dHBzOi8vd3d3LmNhcnN1ay5uZXQvZWxlY3RyaWMtZmlhdC02MDBlLWFycml2ZXMtdG8tdGFrZS1vbi1ldnMtbGlrZS10aGUtaHl1bmRhaS1rb25hLWVsZWN0cmljLWFuZC1tZzQv0gEA?hl=en-GB&gl=GB&ceid=GB%3Aen', '2023-07-05T07:00:00Z')\n",
      "('https://news.google.com/articles/CBMiSWh0dHBzOi8vbmV3YXRsYXMuY29tL2F1dG9tb3RpdmUvZmlhdC02MDBlLWNvbXBhY3QtY3Jvc3NvdmVyLXN1di1lbGVjdHJpYy_SAQA?hl=en-GB&gl=GB&ceid=GB%3Aen', '2023-07-05T07:00:00Z')\n",
      "('https://news.google.com/articles/CBMiO2h0dHBzOi8vd3d3LmdyZWVuY2FyY29uZ3Jlc3MuY29tLzIwMjMvMDcvMjAyMzA3MDktZmlhdC5odG1s0gEA?hl=en-GB&gl=GB&ceid=GB%3Aen', '2023-07-09T07:00:00Z')\n",
      "('https://news.google.com/articles/CBMiWGh0dHBzOi8vd3d3LmNhcnN1ay5uZXQvdGhpcy1pcy10aGUtbmV3LWVsZWN0cmljLWZpYXQtNjAwLWZpYXRzLXRha2Utb24tdGhlLWplZXAtYXZlbmdlci_SAQA?hl=en-GB&gl=GB&ceid=GB%3Aen', '2023-06-12T07:00:00Z')\n",
      "('https://news.google.com/articles/CBMikQFodHRwczovL3d3dy5hdXRvZnV0dXJlcy50di90b3BpY3MvZmlhdC1hbm5vdW5jZXMtZWxlY3RyaWMtY29tZWJhY2stdG8tdGhlLWItc2VnbWVudC13aXRoLXRoZS1uZXctZmlhdC02MDBlL3MvMjIwNTY1NTUtZDUxNi00YjA5LWJiMTUtZjhiNmVmYTY2ODU40gEA?hl=en-GB&gl=GB&ceid=GB%3Aen', '2023-07-05T07:00:00Z')\n",
      "('https://news.google.com/articles/CBMidmh0dHBzOi8vd3d3LmNhcnNjb29wcy5jb20vMjAyMy8wNy90aGUtbmV3LWZpYXQtNjAwZS1zdGFydHMtYXQtMzlrLWFuZC1nZXRzLTI0OS1taWxlcy1vZi1lbGVjdHJpYy1yYW5nZS1waGV2LXRvLWZvbGxvdy_SAQA?hl=en-GB&gl=GB&ceid=GB%3Aen', '2023-07-04T07:00:00Z')\n",
      "('https://news.google.com/articles/CBMiWGh0dHBzOi8vd3d3LmVsZWN0cmlmeWluZy5jb20vYmxvZy9hcnRpY2xlL2ZpYXQtcmV2ZWFsLTYwMGUtYnktZHVua2luZy1pdC1pbi1vcmFuZ2UtcGFpbnTSAQA?hl=en-GB&gl=GB&ceid=GB%3Aen', '2023-06-22T07:00:00Z')\n",
      "('https://news.google.com/articles/CBMiZmh0dHBzOi8vbWV6aGEubWVkaWEvZW4vMjAyMy8wNy8wNS90aGUtZmlhdC02MDBlLWNyb3Nzb3Zlci1pcy1wcmVzZW50ZWQtaW5pdGlhbGx5LW9ubHktYW4tZWxlY3RyaWMtY2FyL9IBamh0dHBzOi8vbWV6aGEubWVkaWEvZW4vMjAyMy8wNy8wNS90aGUtZmlhdC02MDBlLWNyb3Nzb3Zlci1pcy1wcmVzZW50ZWQtaW5pdGlhbGx5LW9ubHktYW4tZWxlY3RyaWMtY2FyL2FtcC8?hl=en-GB&gl=GB&ceid=GB%3Aen', '2023-07-05T07:00:00Z')\n",
      "('https://news.google.com/articles/CBMiWGh0dHBzOi8vd3d3LmVsZWN0cmlmeWluZy5jb20vYmxvZy9hcnRpY2xlL2ZpYXQtZ29lcy1sYXJnZXItd2l0aC1uZXctNjAwZS1maXZlLWRvb3ItaGF0Y2jSAQA?hl=en-GB&gl=GB&ceid=GB%3Aen', '2023-07-05T07:00:00Z')\n",
      "('https://news.google.com/articles/CBMiYmh0dHBzOi8vZXVyb3BlLmF1dG9uZXdzLmNvbS9jYXJzLWNvbmNlcHRzL2ZpYXQtbGF1bmNoZXMtZXYtb25seS1uZXctNjAwZS1jcnVjaWFsLXNtYWxsLXN1di1zZWdtZW500gEA?hl=en-GB&gl=GB&ceid=GB%3Aen', '2023-07-04T07:00:00Z')\n",
      "('https://news.google.com/articles/CBMiV2h0dHBzOi8vd3d3LmdyZWVuY2FycmVwb3J0cy5jb20vbmV3cy8xMTQwMTIxX2ZpYXQtNjAwZS10b3BvbGluby1ldXJvcGUtNTAwZS1ldi11cy1ib3VuZNIBAA?hl=en-GB&gl=GB&ceid=GB%3Aen', '2023-07-06T07:00:00Z')\n",
      "('https://news.google.com/articles/CBMiSWh0dHBzOi8vYXV0b2Rlc2lnbm1hZ2F6aW5lLmNvbS9lbi8yMDIzLzA3L2ZpYXQtNjAwLXRoZS1yZXR1cm4tb2YtYW4taWNvbi_SAQA?hl=en-GB&gl=GB&ceid=GB%3Aen', '2023-07-04T07:00:00Z')\n",
      "('https://news.google.com/articles/CBMiT2h0dHBzOi8vd3d3Lm1vdG9yYXV0aG9yaXR5LmNvbS9uZXdzLzExMzk5MTZfZmlhdC10ZWFzZXMtNjAwZS1lbGVjdHJpYy1jcm9zc292ZXLSAQA?hl=en-GB&gl=GB&ceid=GB%3Aen', '2023-06-13T07:00:00Z')\n",
      "('https://news.google.com/articles/CBMiW2h0dHBzOi8vamVyc2V5ZXZlbmluZ3Bvc3QuY29tL21vdG9yaW5nLzIwMjMvMDcvMDUvbmV3LTYwMGUtZXhwYW5kcy1maWF0cy1lbGVjdHJpYy1vZmZlcmluZy_SAQA?hl=en-GB&gl=GB&ceid=GB%3Aen', '2023-07-05T07:00:00Z')\n",
      "('https://news.google.com/articles/CBMiYWh0dHBzOi8vd3d3LmNhcnNjb29wcy5jb20vMjAyMy8wNi8yMDI0LWZpYXQtNjAwZS1lbGVjdHJpYy1zdXYtcXVpZXRseS1yZXZlYWxlZC1pbi1vZmZpY2lhbC12aWRlby_SAQA?hl=en-GB&gl=GB&ceid=GB%3Aen', '2023-06-12T07:00:00Z')\n",
      "('https://news.google.com/articles/CBMiamh0dHBzOi8vYXV0b25ld3MuYXV0b3VhLm5ldC9lbi80MzU0OS1uZXctZmlhdC02MDBlLWhhcy1nb25lLXNlcmlhbC1wcm9kdWN0aW9uLXN0ZWxsYW50aXMtcGxhbnQtcG9sYW5kLmh0bWzSAWlodHRwczovL2F1dG9uZXdzLmF1dG91YS5uZXQvZW4vNDM1NDktbmV3LWZpYXQtNjAwZS1oYXMtZ29uZS1zZXJpYWwtcHJvZHVjdGlvbi1zdGVsbGFudGlzLXBsYW50LXBvbGFuZC5hbXA?hl=en-GB&gl=GB&ceid=GB%3Aen', '2023-09-13T07:00:00Z')\n",
      "('https://news.google.com/articles/CBMibWh0dHBzOi8vd3d3LmZyZWVwcmVzc2pvdXJuYWwuaW4vYW1wc3Rvcmllcy9waG90by1nYWxsZXJ5L2xldmVsLTYwMC11bmxvY2tlZC1maWF0cy1lbGVjdHJpYy1jYXItZ2xpZGVzLXRocm91Z2jSAW1odHRwczovL3d3dy5mcmVlcHJlc3Nqb3VybmFsLmluL2FtcHN0b3JpZXMvcGhvdG8tZ2FsbGVyeS9sZXZlbC02MDAtdW5sb2NrZWQtZmlhdHMtZWxlY3RyaWMtY2FyLWdsaWRlcy10aHJvdWdo?hl=en-GB&gl=GB&ceid=GB%3Aen', '2024-04-08T07:00:00Z')\n",
      "('https://news.google.com/articles/CBMigQFodHRwczovL3d3dy5ub3RlYm9va2NoZWNrLm5ldC9TdGVsbGFudGlzLWVtYnJhY2VzLXNtYWxsLWVsZWN0cmljLWNhcnMtd2l0aC1hLUVVUjI1LTAwMC1GaWF0LVBhbmRhLUVWLWNvbWluZy1pbi0yMDI0LjczOTU3OS4wLmh0bWzSAQA?hl=en-GB&gl=GB&ceid=GB%3Aen', '2023-08-08T07:00:00Z')\n",
      "('https://news.google.com/articles/CBMiUGh0dHBzOi8vd3d3LmRyaXZlbmNhcmd1aWRlLmNvLm56L25ld3MvZmlhdC02MDBlLXVudmVpbGVkLXdpdGgtMTE1a3ctNDAwa20tcmFuZ2Uv0gEA?hl=en-GB&gl=GB&ceid=GB%3Aen', '2023-07-05T07:00:00Z')\n",
      "('https://news.google.com/articles/CBMiYmh0dHBzOi8vZXVyb3BlLmF1dG9uZXdzLmNvbS9hdXRvbWFrZXJzL3N0ZWxsYW50aXMtdW52ZWlscy0yLWV2cy1wcmVzc3VyZS1tb3VudHMtaXRhbGlhbi1wcm9kdWN0aW9u0gEA?hl=en-GB&gl=GB&ceid=GB%3Aen', '2023-07-05T07:00:00Z')\n",
      "('https://news.google.com/articles/CBMiamh0dHBzOi8vdGhlZHJpdmVuLmlvLzIwMjMvMDcvMTAvZmlhdC11bnZlaWxzLWl0cy1maXJzdC1lbGVjdHJpYy1zdXYtdGhlLTYwMGUtd2l0aC00MDBrbXMtb2YtZHJpdmluZy1yYW5nZS_SAW5odHRwczovL3RoZWRyaXZlbi5pby8yMDIzLzA3LzEwL2ZpYXQtdW52ZWlscy1pdHMtZmlyc3QtZWxlY3RyaWMtc3V2LXRoZS02MDBlLXdpdGgtNDAwa21zLW9mLWRyaXZpbmctcmFuZ2UvYW1wLw?hl=en-GB&gl=GB&ceid=GB%3Aen', '2023-07-10T07:00:00Z')\n",
      "('https://news.google.com/articles/CBMiVmh0dHBzOi8vbGJib25saW5lLmNvbS9uZXdzL2hvdy1sZW8tYnVybmV0dC1kdW5rZWQtZmlhdHMtY2VvLWludG8tYS12YXQtb2Ytb3JhbmdlLXBhaW500gEA?hl=en-GB&gl=GB&ceid=GB%3Aen', '2023-07-17T07:00:00Z')\n",
      "('https://news.google.com/articles/CBMilAFodHRwczovL3d3dy5ub3RlYm9va2NoZWNrLm5ldC9GaWF0LWhvcHMtYWJvYXJkLXRoZS1ub3N0YWxnaWEtdHJhaW4td2l0aC1yZXRyby02MDBlLWNvbXBhY3QtZWxlY3RyaWMtU1VWLWxhdW5jaC13aXRoLTI0OC1taWxlcy1vZi1yYW5nZS43MzIwNTcuMC5odG1s0gEA?hl=en-GB&gl=GB&ceid=GB%3Aen', '2023-07-06T07:00:00Z')\n",
      "('https://news.google.com/articles/CBMicGh0dHBzOi8vd3d3LmNhcnNjb29wcy5jb20vMjAyMy8wNi9maWF0LWR1bmtzLWEtMjAyNC02MDBlLWludG8tYS1idWNrZXQtb2YtcGFpbnQtd2l0aC10aGVpci1jZW8tYmVoaW5kLXRoZS13aGVlbC_SAQA?hl=en-GB&gl=GB&ceid=GB%3Aen', '2023-06-23T07:00:00Z')\n",
      "('https://news.google.com/articles/CBMiSWh0dHBzOi8vd3d3LmludmVyc2UuY29tL3RlY2gvZmlhdC02MDBlLWVsZWN0cmljLXN1di1ldi1wcmljZS1yZWxlYXNlLWRhdGXSAQA?hl=en-GB&gl=GB&ceid=GB%3Aen', '2023-07-05T07:00:00Z')\n",
      "('https://news.google.com/articles/CBMiU2h0dHBzOi8vY2xlYW50ZWNobmljYS5jb20vMjAyMy8wNy8wNS9maWF0LWFubm91bmNlcy10d28tbmV3LWV2cy1mdXR1cmUtaXMtb24tdHJhY2sv0gFXaHR0cHM6Ly9jbGVhbnRlY2huaWNhLmNvbS8yMDIzLzA3LzA1L2ZpYXQtYW5ub3VuY2VzLXR3by1uZXctZXZzLWZ1dHVyZS1pcy1vbi10cmFjay9hbXAv?hl=en-GB&gl=GB&ceid=GB%3Aen', '2023-07-05T07:00:00Z')\n",
      "('https://news.google.com/articles/CBMiV2h0dHBzOi8vd3d3LmNhbXBhaWdubGl2ZS5jby51ay9hcnRpY2xlL2ZpYXQtb3BlcmF0aW9uLW5vLWdyZXktbGVvLWJ1cm5ldHQtdHVyaW4vMTgyODY0MdIBAA?hl=en-GB&gl=GB&ceid=GB%3Aen', '2023-07-04T07:00:00Z')\n",
      "('https://news.google.com/articles/CBMiU2h0dHBzOi8vY2FyYnV6ei5jb20vbmV3cy9maWF0LTYwMGUtcmVib3JuLWFzLWFuLWVsZWN0cmljLWNyb3Nzb3Zlci13aXRoLWplZXAtYm9uZXMv0gEA?hl=en-GB&gl=GB&ceid=GB%3Aen', '2023-07-05T07:00:00Z')\n",
      "('https://news.google.com/articles/CBMiXWh0dHBzOi8vZXVyb3BlLmF1dG9uZXdzLmNvbS9hdXRvbWFrZXJzL2ZpYXQtY2VvLW9saXZpZXItZnJhbmNvaXMtb3V0bGluZXMta2V5cy1icmFuZHMtcmV2aXZhbNIBAA?hl=en-GB&gl=GB&ceid=GB%3Aen', '2023-07-06T07:00:00Z')\n",
      "('https://news.google.com/articles/CBMiQWh0dHBzOi8vd3d3LmF1dG9ibG9nLmNvbS8yMDIzLzA3LzA1L2ZpYXQtNjAwZS1lbGVjdHJpYy1jcm9zc292ZXIv0gEA?hl=en-GB&gl=GB&ceid=GB%3Aen', '2023-07-05T07:00:00Z')\n",
      "('https://news.google.com/articles/CBMiYGh0dHBzOi8vd3d3Lmdpem1vY2hpbmEuY29tLzIwMjMvMDcvMDYvZmlhdC02MDBlLWNvbXBhY3QtZWxlY3RyaWMtc3V2LXVwLXRvLTQwMGttLXJhbmdlLWxhdW5jaGVkL9IBAA?hl=en-GB&gl=GB&ceid=GB%3Aen', '2023-07-06T07:00:00Z')\n",
      "('https://news.google.com/articles/CBMicmh0dHBzOi8vd3d3LmNhcnNjb29wcy5jb20vMjAyMy8wNi9maWF0LXdpbGwtbm8tbG9uZ2VyLW9mZmVyLWdyYXktY2Fycy1hcy1pdC13YW50cy10by1tYWtlLW91ci1saXZlcy1tb3JlLWNvbG9yZnVsL9IBAA?hl=en-GB&gl=GB&ceid=GB%3Aen', '2023-06-26T07:00:00Z')\n",
      "('https://news.google.com/articles/CBMiaWh0dHBzOi8vd3d3LmF1dG9ndWlkZS5jb20vYXV0by90aGUtZmlhdC02MDBlLWlzLWEtc21hbGwtZWxlY3RyaWMtY3Jvc3NvdmVyLXRoYXQtc2hvdWxkLWNvbWUtaGVyZS00NDYwNjg3ONIBAA?hl=en-GB&gl=GB&ceid=GB%3Aen', '2023-07-10T07:00:00Z')\n",
      "('https://news.google.com/articles/CBMicGh0dHBzOi8vd3d3LmZvcmJlcy5jb20vc2l0ZXMvbWljaGFlbHRheWxvci8yMDIzLzA3LzI5L2ZpYXQtYm9vbXMtdG8tYmUtYmVzdC1zZWxsaW5nLXN0ZWxsYW50aXMtYnJhbmQtaW4taDEtMjAyMy_SAQA?hl=en-GB&gl=GB&ceid=GB%3Aen', '2023-07-29T07:00:00Z')\n",
      "('https://news.google.com/articles/CBMiXmh0dHBzOi8vd3d3LnRoZXRydXRoYWJvdXRjYXJzLmNvbS9jYXJzL25ld3MtYmxvZy9maWF0LWludHJvZHVjZXMtNjAwZS1hY3Jvc3MtdGhlLXBvbmQtNDQ1MDE3MzTSAQA?hl=en-GB&gl=GB&ceid=GB%3Aen', '2023-07-05T07:00:00Z')\n",
      "('https://news.google.com/articles/CBMiKGh0dHBzOi8vd3d3Lm1hcmtsaW5lcy5jb20vZW4vbmV3cy8yOTA5MDTSAQA?hl=en-GB&gl=GB&ceid=GB%3Aen', '2023-07-05T07:00:00Z')\n",
      "('https://news.google.com/articles/CBMiaWh0dHBzOi8vd3d3LmNhcnNjb29wcy5jb20vMjAyMy8wNy9uZXh0LWdlbi1maWF0LXBhbmRhLXRvLWJlLXVudmVpbGVkLWluLTIwMjQtYXMtYS1taW5pbWFsaXN0aWMtY3Jvc3NvdmVyL9IBAA?hl=en-GB&gl=GB&ceid=GB%3Aen', '2023-07-06T07:00:00Z')\n",
      "('https://news.google.com/articles/CBMiP2h0dHBzOi8vd3d3LmF1dG9ibG9nLmNvbS9waG90b3MvMjAyMy1maWF0LTYwMGUtb2ZmaWNpYWwtaW1hZ2VzL9IBAA?hl=en-GB&gl=GB&ceid=GB%3Aen', '2023-07-05T07:00:00Z')\n",
      "('https://news.google.com/articles/CBMibGh0dHBzOi8vd3d3LmNhcmFuZGJpa2UuY29tL25ld3MvZmlhdC02MDBlLXVudmVpbGVkLWFsbGVsZWN0cmljLWNyb3Nzb3Zlci13aXRoLWEtcmFuZ2Utb2Ytb3Zlci00MDAta20tMzIwODA0MtIBcmh0dHBzOi8vd3d3LmNhcmFuZGJpa2UuY29tL25ld3MvZmlhdC02MDBlLXVudmVpbGVkLWFsbGVsZWN0cmljLWNyb3Nzb3Zlci13aXRoLWEtcmFuZ2Utb2Ytb3Zlci00MDAta20tMzIwODA0Mj9hbXA9MQ?hl=en-GB&gl=GB&ceid=GB%3Aen', '2023-07-06T07:00:00Z')\n",
      "('https://news.google.com/articles/CBMidGh0dHBzOi8vbW9iaWxlLmd1aWRlYXV0b3dlYi5jb20vZW4vYXJ0aWNsZXMvNzExNDcvYWxsLW5ldy1maWF0LTYwMGUtc21hbGwtZWxlY3RyaWMtY3Jvc3NvdmVyLWlzLWEtbG90LWxpa2UtZ2FyZmllbGQv0gEA?hl=en-GB&gl=GB&ceid=GB%3Aen', '2023-07-04T07:00:00Z')\n",
      "('https://news.google.com/articles/CBMifGh0dHBzOi8vd3d3LnRoZWF1dG9waWFuLmNvbS93ZS1zaG91bGQtYWxsLXJlc3BlY3QtZmlhdC1kdW5raW5nLWEtY2FyLWFuZC1pdHMtY2VvLWludG8tcGFpbnQtYW5kLXByb21pc2luZy1uby1tb3JlLWdyZXktY2Fycy_SAQA?hl=en-GB&gl=GB&ceid=GB%3Aen', '2023-06-26T07:00:00Z')\n",
      "('https://news.google.com/articles/CBMiWmh0dHBzOi8vd3d3LmNhcnNhbGVzLmNvbS5hdS9lZGl0b3JpYWwvZGV0YWlscy9lbGVjdHJpYy0yMDI0LWZpYXQtNjAwZS1zdXYtcmV2ZWFsZWQtMTQxMTQxL9IBAA?hl=en-GB&gl=GB&ceid=GB%3Aen', '2023-06-13T07:00:00Z')\n",
      "('https://news.google.com/articles/CBMidWh0dHBzOi8vdGhlZHJpdmVuLmlvLzIwMjMvMDcvMjcvc3RlbGxhbnRpcy1saWZ0cy1lbGVjdHJpYy1iYXR0ZXJ5LXNhbGVzLWJ5LTI0LXBjdC1zYXlzLW1hcmdpbnMtY29tcGFyYWJsZS13aXRoLXRlc2xhL9IBeWh0dHBzOi8vdGhlZHJpdmVuLmlvLzIwMjMvMDcvMjcvc3RlbGxhbnRpcy1saWZ0cy1lbGVjdHJpYy1iYXR0ZXJ5LXNhbGVzLWJ5LTI0LXBjdC1zYXlzLW1hcmdpbnMtY29tcGFyYWJsZS13aXRoLXRlc2xhL2FtcC8?hl=en-GB&gl=GB&ceid=GB%3Aen', '2023-07-27T07:00:00Z')\n",
      "('https://news.google.com/articles/CBMiV2h0dHBzOi8vZWxlY3RyZWsuY28vMjAyMy8wNy8wNC9zdGVsbGFudGlzLXJldmVhbHMtbmV3LXZvbHZvLWV4MzAtcml2YWxpbmctZWxlY3RyaWMtc3V2L9IBAA?hl=en-GB&gl=GB&ceid=GB%3Aen', '2023-07-04T07:00:00Z')\n",
      "('https://news.google.com/articles/CBMiVWh0dHBzOi8vd3d3LmNhcnNhbGVzLmNvbS5hdS9lZGl0b3JpYWwvZGV0YWlscy9maWF0LTYwMGUtZWxlY3RyaWMtc3V2LWRldGFpbGVkLTE0MTUwNC_SAQA?hl=en-GB&gl=GB&ceid=GB%3Aen', '2023-07-06T07:00:00Z')\n",
      "('https://news.google.com/articles/CBMiS2h0dHBzOi8vd3d3LmF1dG9zcHJpbnQuY2gvZW4vYWt0dWVsbC9maWF0LWRlci02MDAta29tbXQtYWxzLXJlaW5lci1zdHJvbWVyL9IBAA?hl=en-GB&gl=GB&ceid=GB%3Aen', '2023-07-31T07:00:00Z')\n",
      "('https://news.google.com/articles/CBMiXGh0dHBzOi8vd3d3LmF1dG9ibG9nLmNvbS8yMDIzLzA2LzI2L29yZGVyLWEtcmVhbC1jb2xvci1maWF0LXNheXMtaXRzLWVsaW1pbmF0aW5nLWdyYXktcGFpbnQv0gEA?hl=en-GB&gl=GB&ceid=GB%3Aen', '2023-06-26T07:00:00Z')\n",
      "('https://news.google.com/articles/CBMibGh0dHBzOi8vY2FyYnV6ei5jb20vbmV3cy9maWF0LWR1bmtzLWNlby1pbi1hLXZhdC1vZi1vcmFuZ2UtcGFpbnQtdm93cy10by1uZXZlci1idWlsZC1hbm90aGVyLWdyYXktY2FyLWFnYWluL9IBAA?hl=en-GB&gl=GB&ceid=GB%3Aen', '2023-06-27T07:00:00Z')\n",
      "('https://news.google.com/articles/CBMiXWh0dHBzOi8vd3d3LmNhcnNhbGVzLmNvbS5hdS9lZGl0b3JpYWwvZGV0YWlscy9maWF0LXN0b3BzLXByb2R1Y2luZy1ncmV5LWNvbG91cmVkLWNhcnMtMTQxMzM0L9IBAA?hl=en-GB&gl=GB&ceid=GB%3Aen', '2023-06-27T07:00:00Z')\n",
      "('https://news.google.com/articles/CBMidWh0dHBzOi8vd3d3LnRpbWVzbGl2ZS5jby56YS9tb3RvcmluZy9uZXctbW9kZWxzLzIwMjMtMDctMDUtaXNudC1pdC1jdXRlLWZpYXQtdW52ZWlscy10aGUtc2Fzc3ktYW5kLXNwYWNpb3VzLW5ldy02MDBlL9IBeWh0dHBzOi8vd3d3LnRpbWVzbGl2ZS5jby56YS9hbXAvbW90b3JpbmcvbmV3LW1vZGVscy8yMDIzLTA3LTA1LWlzbnQtaXQtY3V0ZS1maWF0LXVudmVpbHMtdGhlLXNhc3N5LWFuZC1zcGFjaW91cy1uZXctNjAwZS8?hl=en-GB&gl=GB&ceid=GB%3Aen', '2023-07-05T07:00:00Z')\n",
      "('https://news.google.com/articles/CBMimAFodHRwczovL2F1dG9uZXdzLmF1dG91YS5uZXQvZW4vbm92b3N0aS8zOTM5OC1maWF0LXF1aWV0bHktcmV2ZWFscy0yMDI0LWZpYXQtNjAwZS1zdHlsaXNoLXNtYWxsLWNyb3Nzb3Zlci1kaXN0aW5jdGl2ZS1kZXNpZ24tYW5kLWVsZWN0cmljLXBvd2VydHJhaW4uaHRtbNIBlwFodHRwczovL2F1dG9uZXdzLmF1dG91YS5uZXQvZW4vbm92b3N0aS8zOTM5OC1maWF0LXF1aWV0bHktcmV2ZWFscy0yMDI0LWZpYXQtNjAwZS1zdHlsaXNoLXNtYWxsLWNyb3Nzb3Zlci1kaXN0aW5jdGl2ZS1kZXNpZ24tYW5kLWVsZWN0cmljLXBvd2VydHJhaW4uYW1w?hl=en-GB&gl=GB&ceid=GB%3Aen', '2023-06-12T07:00:00Z')\n",
      "('https://news.google.com/articles/CBMiU2h0dHBzOi8vd3d3LmNpdGl6ZW4uY28uemEvbW90b3Jpbmcvbm8tbW9yZS1ncmV5LW5ldy1maWF0LTYwMC1lLW9mZmljaWFsbHktcmV2ZWFsZWQv0gFXaHR0cHM6Ly93d3cuY2l0aXplbi5jby56YS9tb3RvcmluZy9uby1tb3JlLWdyZXktbmV3LWZpYXQtNjAwLWUtb2ZmaWNpYWxseS1yZXZlYWxlZC9hbXAv?hl=en-GB&gl=GB&ceid=GB%3Aen', '2023-07-05T07:00:00Z')\n"
     ]
    }
   ],
   "source": [
    "#*Retrieve links from Google News*\n",
    "\n",
    "# Find all the elements containing the URLs of the articles\n",
    "articles600_links = driver.find_elements(By.XPATH, '//a[@class=\"WwrzSb\"]')\n",
    "\n",
    "# Extract the URLs from those elements\n",
    "articles600_urls = [link.get_attribute(\"href\") for link in articles600_links]\n",
    "\n",
    "# Extract corresponding times of the articles <time class=\"hvbAAd\" datetime=\"2024-03-05T08:00:00Z\">5 Mar</time>\n",
    "articles600_times = driver.find_elements(By.XPATH, '//time[@class=\"hvbAAd\"]')\n",
    "articles600_times = [time.get_attribute(\"datetime\") for time in articles600_times]\n",
    "\n",
    "# Make a list of url and corresponding time\n",
    "articles600_info = list(zip(articles600_urls, articles600_times))\n",
    "\n",
    "# Print the URLs\n",
    "for element in articles600_info:\n",
    "    print(element)"
   ]
  },
  {
   "cell_type": "code",
   "execution_count": 5,
   "metadata": {},
   "outputs": [
    {
     "data": {
      "text/plain": [
       "[('https://news.google.com/articles/CBMiaWh0dHBzOi8vd3d3LmF1dG9leHByZXNzLmNvLnVrL2ZpYXQvNjAwLzM2Mzg0MS9maWF0LTYwMGUtbGEtcHJpbWEtbG9uZy10ZXJtLXRlc3QtdXJiYW4tZXYtaGFzLXBsZW50eS1mbGFpctIBAA?hl=en-GB&gl=GB&ceid=GB%3Aen',\n",
       "  '2024-07-22T14:04:01Z'),\n",
       " ('https://news.google.com/articles/CBMiT2h0dHBzOi8vYXV0b2dlYXIucHQvZW4vZ2xvYmFsLXNhbGVzLW9mLWZpYXQtaW5jcmVhc2VkLWJ5LTItMi1pbi10aGUtZmlyc3QtaGFsZi_SAQA?hl=en-GB&gl=GB&ceid=GB%3Aen',\n",
       "  '2024-07-30T10:22:58Z'),\n",
       " ('https://news.google.com/articles/CBMiNmh0dHBzOi8vd3d3LnRvcGdlYXIuY29tL2Nhci1yZXZpZXdzL2ZpYXQvNjAwZS9pbnRlcmlvctIBAA?hl=en-GB&gl=GB&ceid=GB%3Aen',\n",
       "  '2024-03-05T08:00:00Z'),\n",
       " ('https://news.google.com/articles/CBMikwFodHRwczovL3d3dy50aGlzaXNtb25leS5jby51ay9tb25leS9lbGVjdHJpY2NhcnMvYXJ0aWNsZS0xMzE4MjMxMy9GaWF0LTYwMGUtcmV2aWV3LU5ldy0zM2stZWxlY3RyaWMtZmFtaWx5LWNhci1jb25zaWRlci1jaGVhcGVyLWh5YnJpZC12ZXJzaW9uLmh0bWzSAQA?hl=en-GB&gl=GB&ceid=GB%3Aen',\n",
       "  '2024-03-12T07:00:00Z')]"
      ]
     },
     "execution_count": 5,
     "metadata": {},
     "output_type": "execute_result"
    }
   ],
   "source": [
    "# Have a look at the first 4 articles\n",
    "articles600_info[:4]"
   ]
  },
  {
   "cell_type": "code",
   "execution_count": 38,
   "metadata": {},
   "outputs": [
    {
     "data": {
      "text/plain": [
       "94"
      ]
     },
     "execution_count": 38,
     "metadata": {},
     "output_type": "execute_result"
    }
   ],
   "source": [
    "# Check the number of articles\n",
    "len(articles600_info)"
   ]
  },
  {
   "cell_type": "code",
   "execution_count": 6,
   "metadata": {},
   "outputs": [
    {
     "name": "stdout",
     "output_type": "stream",
     "text": [
      "Scraping complete. Data saved to articles.csv\n",
      "                                                 URL             Published  \\\n",
      "0  https://news.google.com/articles/CBMiaWh0dHBzO...  2024-07-22T14:04:01Z   \n",
      "1  https://news.google.com/articles/CBMiaWh0dHBzO...  2024-07-22T14:04:01Z   \n",
      "2  https://news.google.com/articles/CBMiaWh0dHBzO...  2024-07-22T14:04:01Z   \n",
      "3  https://news.google.com/articles/CBMiaWh0dHBzO...  2024-07-22T14:04:01Z   \n",
      "4  https://news.google.com/articles/CBMiaWh0dHBzO...  2024-07-22T14:04:01Z   \n",
      "\n",
      "                                                Text  \n",
      "0                                       4.0 out of 5  \n",
      "1  Fiat does extremely well when it comes to cute...  \n",
      "2  Put together your ideal combination of element...  \n",
      "3  I live in London, so all of this makes for exc...  \n",
      "4  The 600e is Fiat’s new crossover, adding two m...  \n"
     ]
    }
   ],
   "source": [
    "# Scrape the text of the articles\n",
    "articles_600e = []\n",
    "# Loop through the URLs\n",
    "for url, ptime in articles600_info:\n",
    "    driver.get(url)  # Open the URL\n",
    "    # Accept cookies if the button exists\n",
    "    try:\n",
    "        cookie = driver.find_element(By.XPATH, '//button[contains(@class,\"VfPpkd-LgbsSe VfPpkd-LgbsSe-OWXEXe-k8QpJ VfPpkd-LgbsSe-OWXEXe-dgl2Hf nCP5yc AjY5Oe DuMIQc LQeN7 XWZjwc\")]')\n",
    "        cookie.click()\n",
    "        time.sleep(3)  # Wait for the cookies modal to disappear\n",
    "    except:\n",
    "        pass  # Do nothing in the except part\n",
    "    \n",
    "    time.sleep(3)  # Allow the page some time to fully load\n",
    "        \n",
    "    # Parse the HTML of the page with BeautifulSoup\n",
    "    soup = BeautifulSoup(driver.page_source, \"html.parser\")\n",
    "        \n",
    "    # Find all the elements that are paragraph HTML elements\n",
    "    paragraphs = soup.find_all('p')\n",
    "        \n",
    "    # Extract the text from each paragraph and append each as a separate data point\n",
    "    for para in paragraphs:\n",
    "        para_text = para.get_text()\n",
    "        articles_600e.append([url, ptime, para_text])\n",
    "\n",
    "# Close the driver\n",
    "driver.quit()\n",
    "\n",
    "# Create a DataFrame and save it to a CSV file\n",
    "articles_600e_original = pd.DataFrame(articles_600e, columns=['URL', 'Published', 'Text'])\n",
    "\n",
    "print(\"Scraping complete. Data saved to articles.csv\")\n",
    "print(articles_600e_original.head())"
   ]
  },
  {
   "cell_type": "markdown",
   "metadata": {},
   "source": [
    "### 1.1.2 Cleaning"
   ]
  },
  {
   "cell_type": "code",
   "execution_count": 7,
   "metadata": {},
   "outputs": [],
   "source": [
    "# make a copy to clean the data\n",
    "articles_600e_process = articles_600e_original.copy()"
   ]
  },
  {
   "cell_type": "code",
   "execution_count": 8,
   "metadata": {},
   "outputs": [
    {
     "data": {
      "text/plain": [
       "<bound method NDFrame.head of                                                     URL             Published  \\\n",
       "0     https://news.google.com/articles/CBMiaWh0dHBzO...  2024-07-22T14:04:01Z   \n",
       "1     https://news.google.com/articles/CBMiaWh0dHBzO...  2024-07-22T14:04:01Z   \n",
       "2     https://news.google.com/articles/CBMiaWh0dHBzO...  2024-07-22T14:04:01Z   \n",
       "3     https://news.google.com/articles/CBMiaWh0dHBzO...  2024-07-22T14:04:01Z   \n",
       "4     https://news.google.com/articles/CBMiaWh0dHBzO...  2024-07-22T14:04:01Z   \n",
       "...                                                 ...                   ...   \n",
       "7797  https://news.google.com/articles/CBMiU2h0dHBzO...  2023-07-05T07:00:00Z   \n",
       "7798  https://news.google.com/articles/CBMiU2h0dHBzO...  2023-07-05T07:00:00Z   \n",
       "7800  https://news.google.com/articles/CBMiU2h0dHBzO...  2023-07-05T07:00:00Z   \n",
       "7801  https://news.google.com/articles/CBMiU2h0dHBzO...  2023-07-05T07:00:00Z   \n",
       "7802  https://news.google.com/articles/CBMiU2h0dHBzO...  2023-07-05T07:00:00Z   \n",
       "\n",
       "                                                   Text  \n",
       "0                                          4.0 out of 5  \n",
       "1     Fiat does extremely well when it comes to cute...  \n",
       "2     Put together your ideal combination of element...  \n",
       "3     I live in London, so all of this makes for exc...  \n",
       "4     The 600e is Fiat’s new crossover, adding two m...  \n",
       "...                                                 ...  \n",
       "7797  NOW READ: Fiat flicking the all-electric switc...  \n",
       "7798  Download our app and read this and other great...  \n",
       "7800  \\nClick here to get The Citizen news and updat...  \n",
       "7801  Do not miss a single story.Get all the latest ...  \n",
       "7802  \\n\\n\\t\\t\\t\\t\\t\\t\\t\\t2024 The Citizen. All Righ...  \n",
       "\n",
       "[3548 rows x 3 columns]>"
      ]
     },
     "execution_count": 8,
     "metadata": {},
     "output_type": "execute_result"
    }
   ],
   "source": [
    "# clean duplicates\n",
    "articles_600e_process = articles_600e_process.drop_duplicates()\n",
    "articles_600e_process = articles_600e_process.dropna()\n",
    "# clean rows that have only one word in 'Text' column\n",
    "articles_600e_process = articles_600e_process[articles_600e_process['Text'].str.split().str.len() > 1]\n",
    "articles_600e_process.head"
   ]
  },
  {
   "cell_type": "code",
   "execution_count": 9,
   "metadata": {},
   "outputs": [],
   "source": [
    "# clean rows that mention date\n",
    "articles_600e_process = articles_600e_process[~articles_600e_process['Text'].str.contains(r'\\d{4}-\\d{2}-\\d{2}', regex=True)]\n",
    "# mention date in format Month 01, 2023\n",
    "articles_600e_process = articles_600e_process[~articles_600e_process['Text'].str.contains(r'[a-zA-Z]+\\s\\d{2},\\s\\d{4}', regex=True)]\n",
    "# mention date in format 01 Month 2023\n",
    "articles_600e_process = articles_600e_process[~articles_600e_process['Text'].str.contains(r'\\d{2}\\s[a-zA-Z]+\\s\\d{4}', regex=True)]\n",
    "articles_600e_process = articles_600e_process[~articles_600e_process['Text'].str.contains(r'[a-zA-Z]+\\s\\d{1},\\s\\d{4}', regex=True)]\n",
    "\n",
    "# Define a list of patterns to filter out\n",
    "patterns600e = [\n",
    "    '©', 'Find out more', 'terms of use', 'cookie', 'cookies', 'cookie policy', 'privacy policy', 'policy','privacy', \n",
    "    'verify', 'email', 'With your acceptance', 'your changes', 'subscription', 'dialog', 'more by', \n",
    "    'all rights', 'all right', 'sorry', 'editor', '.com', 'chat', 'Subscriptions', 'data', 'ISSN', 'Tel', 'subscribe','Subscribing',\n",
    "    'other forms', 'information', 'Information', 'service can be based', 'company number', 'months ago', \n",
    "    'monthly', 'best new', 'worst new', 'Product and service reviews', 'Best websites', 'Best sites','your consumer rights', \n",
    "    'insurance and warranty offers','Sell your car today','Browse cars for sale','New car leasing offers',\"Check a car's history\",\n",
    "    'Award-winning, independent and impartial advice','Expert Ratings','ExpertImmediate Network', \"Which car seat will suit you?\", \"Website of the Year\", \"Buying and selling a car\",  \n",
    "    \"WhatsApp\", \"subscriber\",\"Login\", \"log in\",\"free account\", \"do not necessarily reflect the views of\", \"Copy link\", \"Daily Mail\", \"mortgage\", \"Let us help you understand\", \"Truck\",\"trucking\",\n",
    "    \"Yahoo\", \"Ireland\", \"Horoscope\", \"county\", \"attack\", \"MISSING PERSON\",\"Offaly\",\"BIG PICTURE\",\"Devolved governments\",\n",
    "    \"Irish\", \"education guidance proposal\",\"Japan\", \"Shepherd\",\"King George\",\"Paralympic\",\"Taylor Swift\",\n",
    "    \"Shania Twain\",\"Leslie Grantham\",\"Emma Thompson\",\"doctors\",\"ambulance\",\"disease\",\"Drugs\",\"Scientists\",\"swimming\",\"hair\",\"skin\",\"Audi\",\"Bugatti\",\"Citroen\",\"per article\",\n",
    "    \"spoirt\", \"Fest\",\"IHF’s\",\"Courtesy\", \"top stories\",   \"Wales\",\"election\",\"Roscrea\", \"elections\", \"hospital\", \"victims\", \"Tractor\",\"championships\",\n",
    "    \"Local National School\",\"house\",\"killed\",  \"Artura Spider?\",  \"Volkswagen’s new Tiguan\",\n",
    "    \"UK drive: Hyundai\",  \"sun blast\", \"tractors\",\"Photos by\",\"Orthodontic\",\"Job Alert\",\"permission\",\"browser settings\",\"vendors are registered\",\"Japanese\",\n",
    "    \"system supported by\",\"reached your account maximum\",\"Corvette\",\"sign in\",\"MembersClick\",\"JavaScript\",\"content free of charge\",\n",
    "    \"Market & Tech Reports\",\"Global automobile production and sales statistics\",\"longest day of the year\", \"Browse for\", \"Powered by\",\"Uses other forms of storage\",\n",
    "    \"buyers reject lofty prices at time of huge capital outlays\"\n",
    "]\n",
    "\n",
    "\n",
    "# Apply the filters\n",
    "for pattern in patterns600e:\n",
    "    articles_600e_process = articles_600e_process[~articles_600e_process['Text'].str.contains(pattern, case=False, na=False)]\n",
    "\n",
    "# Additional specific filters\n",
    "articles_600e_process = articles_600e_process[~articles_600e_process['Text'].str.startswith('Car', na=False)]\n",
    "\n",
    "\n",
    "# clean rows IF (consists of 3 words ) AND (includes  'by')\n",
    "for index, row in articles_600e_process.iterrows():\n",
    "    # if there are 3 words in the text and ('by' or 'By') is in the text, drop the row\n",
    "    if len(row['Text'].split()) == 3 and 'by' in row['Text'].lower():\n",
    "        articles_600e_process.drop(index, inplace=True)\n",
    "\n",
    "# drop if only 2 words in the text\n",
    "articles_600e_process = articles_600e_process[articles_600e_process['Text'].str.split().str.len() > 2]\n",
    "\n",
    "# clean rows IF (consists of less than 4 words) AND (includes  ':')\n",
    "for index, row in articles_600e_process.iterrows():\n",
    "    # if there are less than 4 words in the text and ':' is in the text, drop the row\n",
    "    if len(row['Text'].split()) <= 6 and ':' in row['Text']:\n",
    "        articles_600e_process.drop(index, inplace=True)\n",
    "\n",
    "\n",
    "# clean if mention ;best; more than once in lowred case\n",
    "for index, row in articles_600e_process.iterrows():\n",
    "    if row['Text'].lower().count('best') > 1:\n",
    "        articles_600e_process.drop(index, inplace=True)\n",
    "\n",
    "\n",
    "# clean if contains 'news; that is not in context 'bad news' or 'good news'\n",
    "for index, row in articles_600e_process.iterrows():\n",
    "    if 'news' in row['Text'].lower() and 'bad news' not in row['Text'].lower() and 'good news' not in row['Text'].lower():\n",
    "        articles_600e_process.drop(index, inplace=True)\n",
    "# drop if only 2 words in the text\n",
    "articles_600e_process = articles_600e_process[articles_600e_process['Text'].str.split().str.len() > 3]"
   ]
  },
  {
   "cell_type": "code",
   "execution_count": 10,
   "metadata": {},
   "outputs": [
    {
     "name": "stdout",
     "output_type": "stream",
     "text": [
      "7803 rows in original dataset\n",
      "7066 rows dropped after cleaning\n",
      "737 rows left after cleaning\n"
     ]
    }
   ],
   "source": [
    "print(len(articles_600e_original), 'rows in original dataset')\n",
    "print(len(articles_600e_original) - len(articles_600e_process), 'rows dropped after cleaning')\n",
    "print(len(articles_600e_process), 'rows left after cleaning')"
   ]
  },
  {
   "cell_type": "code",
   "execution_count": 49,
   "metadata": {},
   "outputs": [
    {
     "name": "stdout",
     "output_type": "stream",
     "text": [
      "Number of rows in 600e -Articles:  88\n",
      "Fisrt 5 rows in 600e - Articles: \n",
      "\n",
      "                                                 URL  \\\n",
      "0  https://news.google.com/articles/CBMiHmh0dHBzO...   \n",
      "1  https://news.google.com/articles/CBMiJ2h0dHBzO...   \n",
      "2  https://news.google.com/articles/CBMiJ2h0dHBzO...   \n",
      "3  https://news.google.com/articles/CBMiKWh0dHBzO...   \n",
      "4  https://news.google.com/articles/CBMiNGh0dHBzO...   \n",
      "\n",
      "                                                Text             Published  \n",
      "0  JAKARTA - Fiat recently revealed their latest ...  2023-12-29T11:00:24Z  \n",
      "1  Customers asked for more crossovers, and Fiat ...  2023-08-21T07:00:00Z  \n",
      "2  \\nRelatively affordable to buy. Very useable 2...  2023-09-27T15:21:33Z  \n",
      "3  4.0 out of 5 The ‘Frappuccino' of the small el...  2023-09-22T09:41:02Z  \n",
      "4  There are two specifications available on the ...  2024-03-05T08:00:00Z  \n"
     ]
    }
   ],
   "source": [
    "# Combine paragraphs of the same article\n",
    "# Group by 'URL' and concatenate text in the same group and keep all columns\n",
    "articles600_concatenated = articles_600e_process.groupby('URL').agg({'Text': ' '.join, 'Published': 'first'}).reset_index()\n",
    "\n",
    "# Display the first few rows to verify\n",
    "print('Number of rows in 600e -Articles: ', len(articles600_concatenated))\n",
    "print('Fisrt 5 rows in 600e - Articles: \\n')\n",
    "print(articles600_concatenated.head())\n",
    "\n",
    "# close the browser\n",
    "driver.quit()"
   ]
  },
  {
   "cell_type": "code",
   "execution_count": 12,
   "metadata": {},
   "outputs": [],
   "source": [
    "# Rename the columns for consistency\n",
    "# rename URL to ID\n",
    "articles600_concatenated.rename(columns={'URL': 'ID'}, inplace=True)\n",
    "# Rename Published to Date\n",
    "articles600_concatenated.rename(columns={'Published': 'Date'}, inplace=True)\n",
    "# Date to YYYY-MM-DD without time dt.strftime('%Y-%m-%d')\n",
    "articles600_concatenated['Date'] = pd.to_datetime(articles600_concatenated['Date']).dt.strftime('%Y-%m-%d')"
   ]
  },
  {
   "cell_type": "code",
   "execution_count": 13,
   "metadata": {},
   "outputs": [],
   "source": [
    "# saving the cleaned data\n",
    "articles600e = articles600_concatenated.copy()"
   ]
  },
  {
   "cell_type": "markdown",
   "metadata": {},
   "source": [
    "## 1.2 Articles - 500e"
   ]
  },
  {
   "cell_type": "markdown",
   "metadata": {},
   "source": [
    "## 1.2.1 Scraping"
   ]
  },
  {
   "cell_type": "code",
   "execution_count": 14,
   "metadata": {},
   "outputs": [],
   "source": [
    "# Open a new Chrome window for Fiat 500e search\n",
    "driver = webdriver.Chrome() # Open a new Chrome window\n",
    "url500 = \"https://news.google.com/search?q=fiat%20500e%20-abarth&hl=en-GB&gl=GB&ceid=GB%3Aen\" # URL for Google Trends\n",
    "driver.get(url500) # Open the URL\n",
    "soup = BeautifulSoup(driver.page_source, \"html.parser\") # Parse the HTML of the page\n",
    "\n",
    "# Find accept cookies button and click it\n",
    "cookie = driver.find_element(By.XPATH,'//*[@id=\"yDmH0d\"]/c-wiz/div/div/div/div[2]/div[1]/div[3]/div[1]/div[1]/form[2]/div/div/button')\n",
    "cookie.click()"
   ]
  },
  {
   "cell_type": "code",
   "execution_count": 15,
   "metadata": {},
   "outputs": [],
   "source": [
    "# Scroll and load all articles\n",
    "scroll_and_load(driver)\n",
    "\n",
    "# Parse the loaded page with BeautifulSoup\n",
    "soup = BeautifulSoup(driver.page_source, \"html.parser\")"
   ]
  },
  {
   "cell_type": "code",
   "execution_count": 16,
   "metadata": {},
   "outputs": [
    {
     "name": "stdout",
     "output_type": "stream",
     "text": [
      "('https://news.google.com/articles/CBMiSGh0dHBzOi8vd3d3LmNpbmNoLmNvLnVrL2d1aWRlcy9jaG9vc2luZy1hLWNhci93aHktYXJlLWZpYXQtNTAwZS1zby1jaGVhcNIBAA?hl=en-GB&gl=GB&ceid=GB%3Aen', '2024-07-29T10:06:58Z')\n",
      "('https://news.google.com/articles/CBMib2h0dHBzOi8vd3d3LmF1dG9leHByZXNzLmNvLnVrL2ZpYXQvNTAwLzM2Mzg1My9saW1pdGVkLWVkaXRpb24tZmlhdC01MDBlLWdpb3JnaW8tYXJtYW5pLWVkaXRpb24tb25lLWZhc2hpb25pc3Rhc9IBAA?hl=en-GB&gl=GB&ceid=GB%3Aen', '2024-07-23T11:32:45Z')\n",
      "('https://news.google.com/articles/CBMilQFodHRwczovL2NhcmRlYWxlcm1hZ2F6aW5lLmNvLnVrL3B1Ymxpc2gvanVsLTI3LXBheS1oaWtlcy1mb3ItcHVibGljLXNlY3Rvci1leHBlY3RlZC1pbnRlcmVzdC1yYXRlLWRlY2lzaW9uLW5leHQtd2Vlay1hcm1hbmktZmlhdC01MDBlLXJldmVhbGVkLzMwNTY2NdIBAA?hl=en-GB&gl=GB&ceid=GB%3Aen', '2024-07-27T05:59:31Z')\n",
      "('https://news.google.com/articles/CBMihQFodHRwczovL3d3dy5zaHJvcHNoaXJlc3Rhci5jb20vbmV3cy9tb3RvcnMvMjAyNC8wNy8yNi9maWF0LWNlbGVicmF0ZXMtaXRzLTEyNXRoLWFubml2ZXJzYXJ5LXdpdGgtZXhjbHVzaXZlLWdpb3JnaW8tYXJtYW5pLTUwMGUtbW9kZWwv0gEA?hl=en-GB&gl=GB&ceid=GB%3Aen', '2024-07-26T11:15:16Z')\n",
      "('https://news.google.com/articles/CBMiQWh0dHBzOi8vd3d3LndhbGxwYXBlci5jb20vdHJhbnNwb3J0YXRpb24vZmlhdC01MDBlLWdpb3JnaW8tYXJtYW5p0gEA?hl=en-GB&gl=GB&ceid=GB%3Aen', '2024-07-15T07:00:00Z')\n",
      "('https://news.google.com/articles/CBMiV2h0dHBzOi8vd3d3LndoaWNoZXYubmV0LzIwMjQvMDcvMjQvZmlhdC1hbmQtYXJtYW5pLWNvbGxhYm9yYXRlLW9uLWxpbWl0ZWQtZWRpdGlvbi01MDBlL9IBW2h0dHBzOi8vd3d3LndoaWNoZXYubmV0LzIwMjQvMDcvMjQvZmlhdC1hbmQtYXJtYW5pLWNvbGxhYm9yYXRlLW9uLWxpbWl0ZWQtZWRpdGlvbi01MDBlL2FtcC8?hl=en-GB&gl=GB&ceid=GB%3Aen', '2024-07-24T06:10:08Z')\n",
      "('https://news.google.com/articles/CBMiQWh0dHBzOi8vYXV0b3MueWFob28uY29tLzE0LXRob3VnaHRzLTIwMjQtZmlhdC01MDBlLTE0MDAwMDU3OC5odG1s0gEA?hl=en-GB&gl=GB&ceid=GB%3Aen', '2024-07-30T14:00:00Z')\n",
      "('https://news.google.com/articles/CBMiT2h0dHBzOi8vYXV0b2dlYXIucHQvZW4vZ2xvYmFsLXNhbGVzLW9mLWZpYXQtaW5jcmVhc2VkLWJ5LTItMi1pbi10aGUtZmlyc3QtaGFsZi_SAQA?hl=en-GB&gl=GB&ceid=GB%3Aen', '2024-07-30T10:22:58Z')\n",
      "('https://news.google.com/articles/CBMiQ2h0dHBzOi8vd3d3LmNpbmNoLmNvLnVrL2d1aWRlcy9jaG9vc2luZy1hLWNhci9maWF0LTUwMGUtcmVsaWFiaWxpdHnSAQA?hl=en-GB&gl=GB&ceid=GB%3Aen', '2024-07-25T10:50:54Z')\n",
      "('https://news.google.com/articles/CBMiaGh0dHBzOi8vd3d3LmNhcnN1ay5uZXQvZmlhdC01MDBlLWdpb3JnaW8tYXJtYW5pLWVkaXRpb24tYS1zdHlsaXNoLWxpbWl0ZWQtZWRpdGlvbi1vZi1maWF0cy1lbGVjdHJpYy01MDAv0gEA?hl=en-GB&gl=GB&ceid=GB%3Aen', '2024-07-23T14:05:31Z')\n",
      "('https://news.google.com/articles/CBMiWWh0dHBzOi8vd3d3LmNhcnRocm90dGxlLmNvbS9uZXdzL25vdC1lbGVjdHJpYy12ZXJzaW9uLWVsZWN0cmljLWZpYXQtNTAwZS13aWxsLWFycml2ZS0yMDI20gEA?hl=en-GB&gl=GB&ceid=GB%3Aen', '2024-05-29T07:00:00Z')\n",
      "('https://news.google.com/articles/CBMiUGh0dHBzOi8vd3d3LmZvcmJlcy5jb20vc2l0ZXMvam9zaG1heC8yMDI0LzA2LzEwL3Rlc3QtZHJpdmluZy10aGUtMjAyNC1maWF0LTUwMGUv0gEA?hl=en-GB&gl=GB&ceid=GB%3Aen', '2024-06-10T07:00:00Z')\n",
      "('https://news.google.com/articles/CBMiQmh0dHA6Ly93d3cubW92ZWVsZWN0cmljLmNvbS9nYWxsZXJ5L2Nvb2xlc3QtZWxlY3RyaWMtaWNlLWNyZWFtLXZhbtIBAA?hl=en-GB&gl=GB&ceid=GB%3Aen', '2024-06-02T11:22:20Z')\n",
      "('https://news.google.com/articles/CBMiWGh0dHBzOi8vd3d3LnRoZS1zdW4uY29tL21vdG9ycy8xMjAyOTg5OC9maWF0LTUwMC1lbGVjdHJpYy1yYW5nZS1zaG9ydC10ZXN0LWRyaXZlLXJldmlldy_SAVxodHRwczovL3d3dy50aGUtc3VuLmNvbS9tb3RvcnMvMTIwMjk4OTgvZmlhdC01MDAtZWxlY3RyaWMtcmFuZ2Utc2hvcnQtdGVzdC1kcml2ZS1yZXZpZXcvYW1wLw?hl=en-GB&gl=GB&ceid=GB%3Aen', '2024-07-28T11:00:00Z')\n",
      "('https://news.google.com/articles/CBMiLmh0dHBzOi8vd3d3LmhlcmFsZG5ldC5jb20vbGlmZS8yMDI0LWZpYXQtNTAwZS_SAQA?hl=en-GB&gl=GB&ceid=GB%3Aen', '2024-07-24T08:30:00Z')\n",
      "('https://news.google.com/articles/CBMibWh0dHBzOi8vc3RlbGxhci5pZS9yZWFsLXRhbGsvYmVlcC1iZWVwLXRoZS1maWF0LTUwMGUtaXMtdGhlLXBlcmZlY3QtY2FyLXRvLXN0YXJ0LXlvdXItZWxlY3RyaWMtam91cm5leS8xMzI4ODfSAQA?hl=en-GB&gl=GB&ceid=GB%3Aen', '2024-02-08T08:00:00Z')\n",
      "('https://news.google.com/articles/CBMiUWh0dHBzOi8vd3d3LmF1dG9leHByZXNzLmNvLnVrL2ZpYXQvNTAwLzM2MzYwNi9maWF0LTUwMGUtbm93LW9uZS1jaGVhcGVzdC1ldnMtc2FsZdIBAA?hl=en-GB&gl=GB&ceid=GB%3Aen', '2024-06-27T07:00:00Z')\n",
      "('https://news.google.com/articles/CBMiRWh0dHBzOi8vd3d3LmNpbmNoLmNvLnVrL2d1aWRlcy9jaG9vc2luZy1hLWNhci9maWF0LTUwMGUtZmFzdC1jaGFyZ2luZ9IBAA?hl=en-GB&gl=GB&ceid=GB%3Aen', '2024-07-11T13:59:54Z')\n",
      "('https://news.google.com/articles/CBMifGh0dHBzOi8vd3d3LmF1dG9leHByZXNzLmNvLnVrL2ZpYXQvNTAwLzM2MzI5MC9uZXctaHlicmlkLWZpYXQtNTAwLWlicmlkYS1jb21pbmctc29vbi13aGlsZS1hbGwtZWxlY3RyaWMtNTAwZS13aWxsLWJlLWdldHRpbmfSAQA?hl=en-GB&gl=GB&ceid=GB%3Aen', '2024-06-06T07:00:00Z')\n",
      "('https://news.google.com/articles/CBMibmh0dHBzOi8vd3d3LmF1dG9leHByZXNzLmNvLnVrL2ZpYXQvNTAwLzM2MTc5My9kZWFsLWRheS11c2VkLWFsbC1lbGVjdHJpYy1maWF0LTUwMC1oYWxmLXByaWNlLWhlcm8tanVzdC1wczE0OTk10gEA?hl=en-GB&gl=GB&ceid=GB%3Aen', '2023-12-14T08:00:00Z')\n",
      "('https://news.google.com/articles/CBMiXWh0dHBzOi8vbWFya2V0cy5mdC5jb20vZGF0YS9hbm5vdW5jZS9kZXRhaWw_ZG9ja2V5PTYwMC0yMDI0MDUwMTEyMDBQUl9ORVdTX1VTUFJYX19fX0RFMDMwNjAtMdIBAA?hl=en-GB&gl=GB&ceid=GB%3Aen', '2024-05-01T07:00:00Z')\n",
      "('https://news.google.com/articles/CBMibGh0dHBzOi8vdGhlZHJpdmVuLmlvLzIwMjQvMDEvMDUvZmlhdC01MDBlLWRyaXZlLXJldmlldy1pbi10aGUtY2l0eS1hbmQtZXZlbi1hdC10aGUtYmVhY2gtc21hbGwtaXMtYmVhdXRpZnVsL9IBAA?hl=en-GB&gl=GB&ceid=GB%3Aen', '2024-01-05T08:00:00Z')\n",
      "('https://news.google.com/articles/CBMiQGh0dHBzOi8vd3d3LmNhcm1hZ2F6aW5lLmNvLnVrL2VsZWN0cmljL2Jlc3Qtc21hbGwtZWxlY3RyaWMtY2Fycy_SAQA?hl=en-GB&gl=GB&ceid=GB%3Aen', '2024-07-24T22:30:00Z')\n",
      "('https://news.google.com/articles/CBMiWmh0dHBzOi8vZmluaW1pemUuY29tL2NvbnRlbnQvc3RlbGxhbnRpcy1iZXRzLWJpZy1vbi1oeWJyaWQtZnV0dXJlLXdpdGgtbmV3LWZpYXQtNTAwZS1wbGFuc9IBAA?hl=en-GB&gl=GB&ceid=GB%3Aen', '2024-05-27T11:47:52Z')\n",
      "('https://news.google.com/articles/CBMidWh0dHBzOi8vd3d3LmZvcmJlcy5jb20vc2l0ZXMvYWxleGt3YW50ZW4vMjAyNC8wNS8zMC90ZXN0LWRyaXZpbmctdGhlLTIwMjQtZmlhdC01MDBlLWNoZWVreS1hbmQtY2hlZXJmdWwtaWYtbm90LWNoZWFwL9IBAA?hl=en-GB&gl=GB&ceid=GB%3Aen', '2024-05-31T07:00:00Z')\n",
      "('https://news.google.com/articles/CBMiO2h0dHBzOi8vdGhlYXRsYW50YXZvaWNlLmNvbS8yMDI0LWZpYXQtNTAwZS1yZXZpZXctZWxlY3RyaWMv0gEA?hl=en-GB&gl=GB&ceid=GB%3Aen', '2024-07-24T18:23:33Z')\n",
      "('https://news.google.com/articles/CBMiZWh0dHBzOi8vd3d3LnRoZXRydXRoYWJvdXRjYXJzLmNvbS9jYXJzL3Jldmlld3MvZHJpdmUtbm90ZXMtMjAyNC1maWF0LTUwMGUtaW5zcGlyZWQtYnktYmVhdXR5LTQ0NTA3MjQ10gEA?hl=en-GB&gl=GB&ceid=GB%3Aen', '2024-05-30T07:00:00Z')\n",
      "('https://news.google.com/articles/CBMihQFodHRwczovL3d3dy5tc24uY29tL2VuLXVzL2F1dG9zL290aGVyL2ZpYXQtNTAwZS1naW9yZ2lvLWFybWFuaS1pcy10aGUtbW9zdC1mYXNoaW9uYWJsZS1ldi1tb25leS1jYW4tYnV5L2FyLUJCMXEyVVU4P29jaWQ9QmluZ05ld3NWZXJw0gEA?hl=en-GB&gl=GB&ceid=GB%3Aen', '2024-07-26T17:44:30Z')\n",
      "('https://news.google.com/articles/CBMicGh0dHBzOi8vd3d3LnBybmV3c3dpcmUuY29tL25ld3MtcmVsZWFzZXMvbmV4dC1maWF0LTUwMGUtZHJvcC1pbnNwaXJlZC1ieS1tdXNpYy1pbnNwaXJlZC1ieS1iZWF1dHktMzAyMDg1NzQ0Lmh0bWzSAQA?hl=en-GB&gl=GB&ceid=GB%3Aen', '2024-03-11T07:00:00Z')\n",
      "('https://news.google.com/articles/CBMiYWh0dHBzOi8vd3d3LnRoZWF1dG9waWFuLmNvbS90aGUtc3Bpa2UtbGVlLWNvbW1lcmNpYWwtZm9yLXRoZS1lbGVjdHJpYy1maWF0LTUwMGUtaXMtbXktZXZlcnl0aGluZy_SAQA?hl=en-GB&gl=GB&ceid=GB%3Aen', '2024-05-01T07:00:00Z')\n",
      "('https://news.google.com/articles/CBMiY2h0dHBzOi8vd3d3LmV4cHJlc3MuY28udWsvbGlmZS1zdHlsZS9jYXJzLzE5MTcxNzQvZmlhdC01MDBlLWVsZWN0cmljLXN1cGVybWluaS1hZmZvcmRhYmxlLWhhdGNoYmFja9IBZ2h0dHBzOi8vd3d3LmV4cHJlc3MuY28udWsvbGlmZS1zdHlsZS9jYXJzLzE5MTcxNzQvZmlhdC01MDBlLWVsZWN0cmljLXN1cGVybWluaS1hZmZvcmRhYmxlLWhhdGNoYmFjay9hbXA?hl=en-GB&gl=GB&ceid=GB%3Aen', '2024-06-30T07:00:00Z')\n",
      "('https://news.google.com/articles/CBMiX2h0dHBzOi8vd3d3LmNuZXQuY29tL2hvbWUvZWxlY3RyaWMtdmVoaWNsZXMvMjAyNC1maWF0LTUwMGUtZmlyc3QtZHJpdmUtcmV2aWV3LWxhLWRvbGNlLWV2LXZpdGEv0gEA?hl=en-GB&gl=GB&ceid=GB%3Aen', '2024-04-12T07:00:00Z')\n",
      "('https://news.google.com/articles/CBMiXmh0dHBzOi8vZXVyb3BlLmF1dG9uZXdzLmNvbS9hdXRvbWFrZXJzL2ZpYXQtNTAwLWV2LWdldC1uZXctYmF0dGVyeS1wYWNrLTEwNy1taWxsaW9uLWludmVzdG1lbnTSAQA?hl=en-GB&gl=GB&ceid=GB%3Aen', '2024-04-23T07:00:00Z')\n",
      "('https://news.google.com/articles/CBMiS2h0dHBzOi8vd3d3LmF1dG9uZXdzLmNvbS9tYXJrZXRpbmcvMjAyNC1maWF0LTUwMGUtYWQtY2FtcGFpZ24tbGVkLXNwaWtlLWxlZdIBAA?hl=en-GB&gl=GB&ceid=GB%3Aen', '2024-05-01T07:00:00Z')\n",
      "('https://news.google.com/articles/CBMiWWh0dHBzOi8vd3d3Lmlua2wuY29tL25ld3MvZ2lvcmdpby1hcm1hbmktdGFrZXMtZmlhdC1zLTUwMGUtdG8tYW5vdGhlci1sZXZlbC1vZi11cmJhbi1jaGlj0gEA?hl=en-GB&gl=GB&ceid=GB%3Aen', '2024-07-15T07:00:00Z')\n",
      "('https://news.google.com/articles/CBMiPWh0dHBzOi8vd3d3LnRyZW5kaHVudGVyLmNvbS90cmVuZHMvZmlhdC01MDBlLXgtZ2lvcmdpby1hcm1hbmnSAQA?hl=en-GB&gl=GB&ceid=GB%3Aen', '2024-07-16T07:00:00Z')\n",
      "('https://news.google.com/articles/CBMiPGh0dHBzOi8vd3d3LmNhcnByby5jb20vdmVoaWNsZS1yZXZpZXdzLzIwMjQtZmlhdC01MDBlLXJldmlld9IBSGh0dHBzOi8vd3d3LmNhcnByby5jb20vdmVoaWNsZS1yZXZpZXdzLzIwMjQtZmlhdC01MDBlLXJldmlldz9oc19hbXA9dHJ1ZQ?hl=en-GB&gl=GB&ceid=GB%3Aen', '2024-07-02T07:00:00Z')\n",
      "('https://news.google.com/articles/CBMifWh0dHBzOi8vd3d3LnBybmV3c3dpcmUuY29tL25ld3MtcmVsZWFzZXMvZmlhdC01MDBlLW5hbWVkLTIwMjQtdXJiYW4tZ3JlZW4tY2FyLW9mLXRoZS15ZWFyLWJ5LWdyZWVuLWNhci1qb3VybmFsLTMwMjA2MTk1OC5odG1s0gEA?hl=en-GB&gl=GB&ceid=GB%3Aen', '2024-02-14T08:00:00Z')\n",
      "('https://news.google.com/articles/CBMiRGh0dHBzOi8vZXVyb3BlLmF1dG9uZXdzLmNvbS9hdXRvbWFrZXJzL2hvdy1maWF0LWFpbXMtc2VsbC01MDBlLWV2LXVz0gEA?hl=en-GB&gl=GB&ceid=GB%3Aen', '2024-05-08T07:00:00Z')\n",
      "('https://news.google.com/articles/CBMiZmh0dHBzOi8vd3d3LmNhcnNjb29wcy5jb20vMjAyNC8wMy9maWF0LXRvLWZpdC1taWxkLWh5YnJpZC1lbmdpbmUtaW50by10aGUtNTAwZS1iZWNhdXNlLW9mLWV2LXNsb3dkb3duL9IBAA?hl=en-GB&gl=GB&ceid=GB%3Aen', '2024-03-20T07:00:00Z')\n",
      "('https://news.google.com/articles/CBMicGh0dHBzOi8vd3d3LnBybmV3c3dpcmUuY29tL25ld3MtcmVsZWFzZXMvZmlhdC01MDBlLWZpcnN0LXN0ZWxsYW50aXMtYmV2LWZvci11cy1yb2xscy1vZmYtdGhlLWxpbmUtMzAyMDY3NTk5Lmh0bWzSAQA?hl=en-GB&gl=GB&ceid=GB%3Aen', '2024-02-21T08:00:00Z')\n",
      "('https://news.google.com/articles/CBMiZWh0dHBzOi8vd3d3LnRvcGdlYXIuY29tL2Nhci1uZXdzL3RvcC1nZWFyLWFkdmljZS9oZXJlLWFyZS1iZXN0LXNtYWxsLWVsZWN0cmljLWNhcnMtYnV5LW5vdy1hbmQtZnV0dXJl0gEA?hl=en-GB&gl=GB&ceid=GB%3Aen', '2024-02-13T11:12:40Z')\n",
      "('https://news.google.com/articles/CBMiVmh0dHBzOi8vd3d3Lm1vdG9yYXV0aG9yaXR5LmNvbS9uZXdzLzExNDI2MjJfZmlhdC01MDBlLWVsZWN0cmljLWNhci1tYXktZ2Fpbi1nYXMtb3B0aW9u0gEA?hl=en-GB&gl=GB&ceid=GB%3Aen', '2024-03-20T07:00:00Z')\n",
      "('https://news.google.com/articles/CBMiX2h0dHBzOi8vd3d3LmNhcmJ1eWVyLmNvLnVrL2ZpYXQvNTAwLzMwNTMwOC9ob3QtY2FyLWRlYWwtaGlnaC1zcGVjLWZpYXQtNTAwLWV2LWZvci1wczE4MC1hLW1vbnRo0gEA?hl=en-GB&gl=GB&ceid=GB%3Aen', '2024-01-24T08:00:00Z')\n",
      "('https://news.google.com/articles/CBMiMmh0dHBzOi8vdGhlZXZyZXBvcnQuY29tL2ZpYXQtNTAwZS1kZWJ1dHMtaW4tY2FuYWRh0gEA?hl=en-GB&gl=GB&ceid=GB%3Aen', '2024-05-08T07:00:00Z')\n",
      "('https://news.google.com/articles/CBMiuAFodHRwczovL3d3dy5wcm5ld3N3aXJlLmNvbS9uZXdzLXJlbGVhc2VzL2ZpYXQtdGVhc2VzLXRoZS1uZXh0LWRyb3Atb2YtdGhlLWFsbC1uZXctYWxsLWVsZWN0cmljLWZpYXQtNTAwZS1pbi10aGUtdXMtaW4tamVubmlmZXItbG9wZXpzLW5ldy1tdXNpYy12aWRlby1mb3ItY2FudC1nZXQtZW5vdWdoLTMwMjA0ODM4Mi5odG1s0gEA?hl=en-GB&gl=GB&ceid=GB%3Aen', '2024-01-30T08:00:00Z')\n",
      "('https://news.google.com/articles/CBMilAFodHRwczovL3d3dy5wcm5ld3N3aXJlLmNvbS9uZXdzLXJlbGVhc2VzL2ZpYXQtYnJhbmQtY2VsZWJyYXRlcy1hcnJpdmFsLW9mLWFsbC1uZXctYWxsLWVsZWN0cmljLWZpYXQtNTAwZXJlZC1pbi11cy13aXRoLWluc3BpcmVkLXZpZGVvLTMwMjAxMTgzNi5odG1s0gEA?hl=en-GB&gl=GB&ceid=GB%3Aen', '2023-12-11T08:00:00Z')\n",
      "('https://news.google.com/articles/CBMid2h0dHBzOi8vd3d3LmdyZWVuY2FycmVwb3J0cy5jb20vbmV3cy8xMTQyODM0X2ZpYXQtNTAwZS1yZXZpZXctZi0xNTAtbGlnaHRuaW5nLXByaWNlLWN1dHMtYm13LWFuZC1yaW1hYy10b2RheS1zLWNhci1uZXdz0gEA?hl=en-GB&gl=GB&ceid=GB%3Aen', '2024-04-10T07:00:00Z')\n",
      "('https://news.google.com/articles/CBMieGh0dHBzOi8vd3d3LmRpZ2l0YWxjYW1lcmF3b3JsZC5jb20vZmVhdHVyZXMvZWxlY3RyaWMtZHJlYW1zLXByby1waG90b2dyYXBoZXItam9hbmEta3J1c2UtZG9jdW1lbnRzLWhlci10cmF2ZWxzLWluLWhlci1ldtIBAA?hl=en-GB&gl=GB&ceid=GB%3Aen', '2024-03-16T07:00:00Z')\n",
      "('https://news.google.com/articles/CBMiV2h0dHBzOi8vd3d3LmVsZWN0cml2ZS5jb20vMjAyMy8xMi8wNy9maWF0LXRvLXJlbGVhc2UtdGhlLTUwMGUtaW4tdGhlLXVzLWluLXNwcmluZy0yMDI0L9IBAA?hl=en-GB&gl=GB&ceid=GB%3Aen', '2023-12-07T08:00:00Z')\n",
      "('https://news.google.com/articles/CBMiLWh0dHBzOi8vY2Fycy51c25ld3MuY29tL2NhcnMtdHJ1Y2tzL2ZpYXQvNTAwZdIBAA?hl=en-GB&gl=GB&ceid=GB%3Aen', '2024-07-11T07:00:00Z')\n",
      "('https://news.google.com/articles/CBMiWGh0dHBzOi8vd3d3LndhcmRzYXV0by5jb20vdGVzdC1kcml2ZXMtbmV3LXZlaGljbGVzL3dpbGwtZmlhdC1zLWFydHN5LXN0cmF0ZWd5LWhlbHAtNTAwZS3SAQA?hl=en-GB&gl=GB&ceid=GB%3Aen', '2024-03-15T07:00:00Z')\n",
      "('https://news.google.com/articles/CBMiNmh0dHBzOi8vdGhlZXZyZXBvcnQuY29tL2ZpYXQtNTAwZS11cmJhbi1ncmVlbi1jYXItMjAyNNIBAA?hl=en-GB&gl=GB&ceid=GB%3Aen', '2024-02-15T08:00:00Z')\n",
      "('https://news.google.com/articles/CBMiR2h0dHBzOi8vd3d3LnRoZXN1bi5jby51ay9tb3RvcnMvMjQ2NjU5OTYvZmlhdC01MDAtZWxlY3RyaWMtYmFyYmllLXBpbmsv0gFLaHR0cHM6Ly93d3cudGhlc3VuLmNvLnVrL21vdG9ycy8yNDY2NTk5Ni9maWF0LTUwMC1lbGVjdHJpYy1iYXJiaWUtcGluay9hbXAv?hl=en-GB&gl=GB&ceid=GB%3Aen', '2023-11-08T08:00:00Z')\n",
      "('https://news.google.com/articles/CBMiXWh0dHBzOi8vd3d3LmNhcnNjb29wcy5jb20vMjAyNC8wMS9yZXZpZXctbmV3LWZpYXQtNTAwZS1sYS1wcmltYS1pcy1zdHlsaXNoLWJ1dC10b28tZXhwZW5zaXZlL9IBAA?hl=en-GB&gl=GB&ceid=GB%3Aen', '2024-01-28T08:00:00Z')\n",
      "('https://news.google.com/articles/CBMiOWh0dHBzOi8vY2FyYnV6ei5jb20vZmlhdC01MDBlLWdpb3JnaW8tYXJtYW5pLWV2LXJldmVhbGVkL9IBAA?hl=en-GB&gl=GB&ceid=GB%3Aen', '2024-07-15T07:00:00Z')\n",
      "('https://news.google.com/articles/CBMiP2h0dHBzOi8vdGhlZXZyZXBvcnQuY29tLzUwMGUtcm9sbHMtb3V0LWZpYXRzLWVsZWN0cmljLW1pbGVzdG9uZdIBAA?hl=en-GB&gl=GB&ceid=GB%3Aen', '2024-02-21T08:00:00Z')\n",
      "('https://news.google.com/articles/CBMiUGh0dHBzOi8vY2xlYW50ZWNobmljYS5jb20vMjAyNC8wNi8wNy9uZXctZmlhdC01MDBlLWRyb3AtaW5zcGlyZWQtYnktbG9zLWFuZ2VsZXMv0gFUaHR0cHM6Ly9jbGVhbnRlY2huaWNhLmNvbS8yMDI0LzA2LzA3L25ldy1maWF0LTUwMGUtZHJvcC1pbnNwaXJlZC1ieS1sb3MtYW5nZWxlcy9hbXAv?hl=en-GB&gl=GB&ceid=GB%3Aen', '2024-06-07T18:38:13Z')\n",
      "('https://news.google.com/articles/CBMiSmh0dHBzOi8vYWJjNy5jb20vcG9zdC9maWF0LXVwZ3JhZGVzLWVsZWN0cmljLTUwMGUtbW9kZWwtZm9yLTIwMjQvMTQ4MzQ2NzIv0gEA?hl=en-GB&gl=GB&ceid=GB%3Aen', '2024-05-18T07:00:00Z')\n",
      "('https://news.google.com/articles/CBMiVGh0dHBzOi8vd3d3LmNuZXQuY29tL3JvYWRzaG93L3ZpZGVvcy9maXJzdC1kcml2ZS1pbi10aGUtYWxsLWVsZWN0cmljLTIwMjQtZmlhdC01MDBlL9IBAA?hl=en-GB&gl=GB&ceid=GB%3Aen', '2024-04-18T07:00:00Z')\n",
      "('https://news.google.com/articles/CBMiV2h0dHBzOi8vamFsb3BuaWsuY29tL3doYXQtdGhlLWhlbGwtaXMtZmlhdC10aGlua2luZy13aXRoLXRoZXNlLW5ldy01MDBlLWxlYXMtMTg1MTUxMDMwONIBAA?hl=en-GB&gl=GB&ceid=GB%3Aen', '2024-05-31T07:00:00Z')\n",
      "('https://news.google.com/articles/CBMiQ2h0dHBzOi8vbHV4dXJ5bGF1bmNoZXMuY29tL3RyYW5zcG9ydC9maWF0LTUwMGUteC1naW9yZ2lvLWFybWFuaS5waHDSAQA?hl=en-GB&gl=GB&ceid=GB%3Aen', '2024-07-14T07:00:00Z')\n",
      "('https://news.google.com/articles/CBMiQmh0dHBzOi8vdGZsY2FyLmNvbS8yMDI0LzA2L2ZpYXQtNTAwZS1pbnNwaXJlZC1ieS1sb3MtYW5nZWxlcy1uZXdzL9IBAA?hl=en-GB&gl=GB&ceid=GB%3Aen', '2024-06-07T07:00:00Z')\n",
      "('https://news.google.com/articles/CBMixQFodHRwczovL3d3dy5wcm5ld3N3aXJlLmNvbS9uZXdzLXJlbGVhc2VzL2ZpYXQtdG8tYXVjdGlvbi10aHJlZS1zcGVjaWFsLWZpYXQtNTAwZS1lbGVjdHJpYy1jYXJzLWR1cmluZy1hcnQtYmFzZWwtbWlhbWktYmVhY2gtMjAyMy1wcm9jZWVkcy10by1iZW5lZml0LWVudmlyb25tZW50YWxseS1mb2N1c2VkLW5vbnByb2ZpdC0zMDE5OTk2NTAuaHRtbNIBAA?hl=en-GB&gl=GB&ceid=GB%3Aen', '2023-11-28T08:00:00Z')\n",
      "('https://news.google.com/articles/CBMiTWh0dHBzOi8vd3d3Lmlua2wuY29tL25ld3MvZmlhdC1zLTI4LTAwMC1ncmFuZGUtcGFuZGEtZXYtY291bGQtY29tZS10by1hbWVyaWNh0gEA?hl=en-GB&gl=GB&ceid=GB%3Aen', '2024-07-12T07:00:00Z')\n",
      "('https://news.google.com/articles/CBMiUmh0dHBzOi8vd3d3LmF1dG9uZXdzLmNvbS9jcml0aWNzLWNvcm5lci8yMDI0LWZpYXQtNTAwZS1yZXZpZXdzLWVzcHJlc3NvLWdvZXMtZ3JlZW7SAQA?hl=en-GB&gl=GB&ceid=GB%3Aen', '2024-04-16T07:00:00Z')\n",
      "('https://news.google.com/articles/CBMiTmh0dHBzOi8vdGVjaGNydW5jaC5jb20vMjAyMy8xMi8wNS9maWF0cy1uZXctZXYtbG9va3MtbGlrZS10aGUtYW50aS1jeWJlcnRydWNrL9IBAA?hl=en-GB&gl=GB&ceid=GB%3Aen', '2023-12-05T08:00:00Z')\n",
      "('https://news.google.com/articles/CBMiaGh0dHBzOi8vd3d3LmF1dG9ibG9nLmNvbS8yMDI0LzA1LzI4L3N0ZWxsYW50aXMtdG8taW50cm9kdWNlLWh5YnJpZC12ZXJzaW9ucy1vZi1maWF0LTUwMC1ldi1qZWVwLWNvbXBhc3Mv0gEA?hl=en-GB&gl=GB&ceid=GB%3Aen', '2024-05-28T07:00:00Z')\n",
      "('https://news.google.com/articles/CBMiP2h0dHBzOi8vd3d3LmF1dG9ibG9nLmNvbS8yMDI0LzA0LzEwLzIwMjQtZmlhdC01MDBlLWZpcnN0LWRyaXZlL9IBAA?hl=en-GB&gl=GB&ceid=GB%3Aen', '2024-04-10T07:00:00Z')\n",
      "('https://news.google.com/articles/CBMisgFodHRwczovL3d3dy5tYXJrZXR3YXRjaC5jb20vc3RvcnkvdGhlLW5ldy0yMDI0LWZpYXQtNTAwZS1hLXF1aWNrLWNoYXJnaW5nLWZ1bi1ldi1mb3ItemlwcGluZy1hcm91bmQtdG93bi03ZmU2YmY3MT9ndWlkPSU3QjIwQzA2NTc1LTA0RDQtQjU0NS03MkFCLTk0RTA0QjQ4Q0YyQyU3RCZyc3M9MSZzaXRlaWQ9cnNz0gEA?hl=en-GB&gl=GB&ceid=GB%3Aen', '2023-12-11T08:00:00Z')\n",
      "('https://news.google.com/articles/CBMiKGh0dHBzOi8vd3d3LmF1dG9ldm9sdXRpb24uY29tL2ZpYXQvNTAwZS_SAQA?hl=en-GB&gl=GB&ceid=GB%3Aen', '2023-11-07T08:00:00Z')\n",
      "('https://news.google.com/articles/CBMiX2h0dHBzOi8vd3d3LndhcmRzYXV0by5jb20vdGVzdC1kcml2ZXMtbmV3LXZlaGljbGVzL3doYXQtcmFuZ2UtYW54aWV0eS1kZWFsZXJzLXNuYXAtdXAtZmlhdC01MDBl0gEA?hl=en-GB&gl=GB&ceid=GB%3Aen', '2024-02-22T08:00:00Z')\n",
      "('https://news.google.com/articles/CBMiSWh0dHBzOi8vd3d3LnRoZWJ1enpldm5ld3MuY29tL3N0ZWxsYW50aXMtZmlhdC01MDBlLW5vcnRoLWFtZXJpY2FuLW1hcmtldC_SAQA?hl=en-GB&gl=GB&ceid=GB%3Aen', '2024-03-05T08:00:00Z')\n",
      "('https://news.google.com/articles/CBMiXmh0dHBzOi8vd3d3LmF1dG9uZXdzLmNvbS9jYXJzLWNvbmNlcHRzL2ZpYXQtNTAwZS1mYWNlcy11cGhpbGwtYmF0dGxlLXNlbGxpbmctYW1lcmljYW5zLXRpbnktZXbSAQA?hl=en-GB&gl=GB&ceid=GB%3Aen', '2024-04-10T07:00:00Z')\n",
      "('https://news.google.com/articles/CBMiZmh0dHBzOi8vd3d3LmRidXNpbmVzcy5jb20vZGFpbHktbmV3cy9qZW5uaWZlci1sb3Blei1hbmQtbGF0dG8tZmVhdHVyZWQtaW4tcHJvZHVjdC1sYXVuY2gtb2YtZmlhdC01MDBlL9IBAA?hl=en-GB&gl=GB&ceid=GB%3Aen', '2024-01-31T17:42:39Z')\n",
      "('https://news.google.com/articles/CBMiYWh0dHBzOi8vZWxlY3RyZWsuY28vMjAyNC8wMS8xNi9maWF0LTUwMGUtaGl0cy1yb2FkLWJ1bXAtc3RlbGxhbnRpcy1sYXlzLW9mZi10aG91c2FuZHMtb2Ytd29ya2Vycy_SAQA?hl=en-GB&gl=GB&ceid=GB%3Aen', '2024-01-16T08:00:00Z')\n",
      "('https://news.google.com/articles/CBMiYmh0dHBzOi8vZWxlY3RyZWsuY28vMjAyNC8wMS8xMC9jYW4tZmlhdC13aW4tb3Zlci10aGUtaGVhcnRzLW9mLWFtZXJpY2Fucy13aXRoLWl0cy1uZXctYmV0dGVyLTUwMGUv0gEA?hl=en-GB&gl=GB&ceid=GB%3Aen', '2024-01-10T08:00:00Z')\n",
      "('https://news.google.com/articles/CBMiWWh0dHBzOi8vY2xlYW50ZWNobmljYS5jb20vMjAyMy8xMi8xMy9maWF0LW1ha2VzLWEtc3BsYXNoLXdpdGgtdGhlLXVzLXJlbGVhc2Utb2YtdGhlLTUwMGUv0gFdaHR0cHM6Ly9jbGVhbnRlY2huaWNhLmNvbS8yMDIzLzEyLzEzL2ZpYXQtbWFrZXMtYS1zcGxhc2gtd2l0aC10aGUtdXMtcmVsZWFzZS1vZi10aGUtNTAwZS9hbXAv?hl=en-GB&gl=GB&ceid=GB%3Aen', '2023-12-13T08:00:00Z')\n",
      "('https://news.google.com/articles/CBMiXGh0dHBzOi8vd3d3LmVuZ2FkZ2V0LmNvbS90aGUtdGlueS1maWF0LTUwMGUtaXMtY29taW5nLXRvLXRoZS11cy1pbi1lYXJseS0yMDI0LTA5NDc1NDA0OS5odG1s0gEA?hl=en-GB&gl=GB&ceid=GB%3Aen', '2023-12-05T08:00:00Z')\n",
      "('https://news.google.com/articles/CBMiamh0dHBzOi8vd3d3LmF1dG9ndWlkZS5jb20vYXV0by9tYW51ZmFjdHVyZXJzL2ZpYXQtbWFudWZhY3R1cmVycy8yMDI0LWZpYXQtNTAwZS1yZXZpZXctZmlyc3QtZHJpdmUtNDQ2MTA0NDXSAQA?hl=en-GB&gl=GB&ceid=GB%3Aen', '2024-04-11T07:00:00Z')\n",
      "('https://news.google.com/articles/CBMiZGh0dHBzOi8vd3d3LmluZGlld2lyZS5jb20vbmV3cy9nZW5lcmFsLW5ld3Mvc3Bpa2UtbGVlLWdpYW5jYXJsby1lc3Bvc2l0by1maWF0LWNvbW1lcmNpYWwtMTIzNTAwMDEyNy_SAQA?hl=en-GB&gl=GB&ceid=GB%3Aen', '2024-05-05T07:00:00Z')\n",
      "('https://news.google.com/articles/CBMiaGh0dHBzOi8vd3d3LmNhcnNjb29wcy5jb20vMjAyNC8wNi9kZS1iYWRnZWQtZmlhdC01MDBlLWFkLWxvb2tzLWxpa2UtYS1tZXNzYWdlLXRvLXRoZS1pdGFsaWFuLWdvdmVybm1lbnQv0gEA?hl=en-GB&gl=GB&ceid=GB%3Aen', '2024-06-17T07:00:00Z')\n",
      "('https://news.google.com/articles/CBMiX2h0dHBzOi8vd3d3LnRvcnF1ZW5ld3MuY29tLzM3NjgvZmlhdC13aWxsLXN0YXJ0LXN0ZWxsYW50aXMtYmV2LWVyYS0yMDI0LWZpYXQtNTAwZS1yZWQtZWRpdGlvbi0w0gFjaHR0cHM6Ly93d3cudG9ycXVlbmV3cy5jb20vMzc2OC9maWF0LXdpbGwtc3RhcnQtc3RlbGxhbnRpcy1iZXYtZXJhLTIwMjQtZmlhdC01MDBlLXJlZC1lZGl0aW9uLTAvYW1w?hl=en-GB&gl=GB&ceid=GB%3Aen', '2023-12-29T08:00:00Z')\n",
      "('https://news.google.com/articles/CBMiTWh0dHBzOi8vd3d3LmNhcnNjb29wcy5jb20vMjAyMy8xMi9maWF0LTUwMGUtY29uY2VwdHMtZmV0Y2gtNjAwMDAwLWF0LWF1Y3Rpb24v0gEA?hl=en-GB&gl=GB&ceid=GB%3Aen', '2023-12-11T08:00:00Z')\n",
      "('https://news.google.com/articles/CBMiXGh0dHBzOi8vaW5kaWFuYXV0b3NibG9nLmNvbS9maWF0LTUwMGUtZmlyc3Qtc3RlbGxhbnRpcy1iZXYtZm9yLXVzLXJvbGxzLW9mZi10aGUtbGluZS1wMzI2NTQ30gFiaHR0cHM6Ly9tLmluZGlhbmF1dG9zYmxvZy5jb20vZmlhdC01MDBlLWZpcnN0LXN0ZWxsYW50aXMtYmV2LWZvci11cy1yb2xscy1vZmYtdGhlLWxpbmUtcDMyNjU0Ny9hbXA?hl=en-GB&gl=GB&ceid=GB%3Aen', '2024-02-26T08:00:00Z')\n",
      "('https://news.google.com/articles/CBMiVWh0dHBzOi8vd3d3LmF1dG9uZXdzLmNvbS9jYXJzLWNvbmNlcHRzL2ZpYXQtNTAwZS1yZXR1cm5zLXVzLWVhcmx5LTIwMjQtMTQ5LW1pbGUtcmFuZ2XSAQA?hl=en-GB&gl=GB&ceid=GB%3Aen', '2023-12-05T08:00:00Z')\n",
      "('https://news.google.com/articles/CBMigQFodHRwczovL3d3dy5icmFuZGluZ2luYXNpYS5jb20vc3Bpa2UtbGVlLWdpYW5jYXJsby1lc3Bvc2l0by1leHBlcmllbmNlLWl0YWx5LWluLWFtZXJpY2EtaW4tc2VyaWVzLW9mLWNhbXBhaWduLWZpbG1zLWZvci10aGUtZmlhdC_SAQA?hl=en-GB&gl=GB&ceid=GB%3Aen', '2024-05-02T07:00:00Z')\n",
      "('https://news.google.com/articles/CBMiZ2h0dHBzOi8vd3d3LmNhcnNjb29wcy5jb20vMjAyMy8xMS9maWF0LXRvLWF1Y3Rpb24tYXJtYW5pLWJ2bGdhcmktYW5kLWthcnRlbGwtNTAwZS1jb25jZXB0cy1pbi1kZWNlbWJlci_SAQA?hl=en-GB&gl=GB&ceid=GB%3Aen', '2023-11-28T08:00:00Z')\n",
      "('https://news.google.com/articles/CBMiV2h0dHBzOi8vZWxlY3RyZWsuY28vMjAyMy8xMS8yOC9maWF0LTUwMGUtc3RhcnQtdW5kZXItMzNrLWluLXVzLWFzLWFmZm9yZGFibGUtZXYtb3B0aW9uL9IBAA?hl=en-GB&gl=GB&ceid=GB%3Aen', '2023-11-28T08:00:00Z')\n",
      "('https://news.google.com/articles/CBMiaWh0dHBzOi8vd3d3LmF1dG9uZXdzLmNvbS9hdXRvbWFrZXJzLXN1cHBsaWVycy9maWF0LWplbm5pZmVyLWxvcGV6LXRlYXNlLW5ldy01MDBlLWV2LWxpbWl0ZWQtcmVsZWFzZS12aWRlb9IBAA?hl=en-GB&gl=GB&ceid=GB%3Aen', '2024-01-31T08:00:00Z')\n",
      "('https://news.google.com/articles/CBMiYGh0dHBzOi8vYXJzdGVjaG5pY2EuY29tL2NhcnMvMjAyMy8xMi9ldi1iYXR0ZXJ5LXN3YXBzLXdpbGwtYmUtdGVzdGVkLXdpdGgtdGhlLWZpYXQtNTAwZS1pbi0yMDI0L9IBAA?hl=en-GB&gl=GB&ceid=GB%3Aen', '2023-12-07T08:00:00Z')\n",
      "('https://news.google.com/articles/CBMiXmh0dHBzOi8vY2xlYW50ZWNobmljYS5jb20vMjAyNC8wMy8yMy9jb3VsZC10aGUtbmV3LWZpYXQtNTAwZS1yZXZpdmUtdGhlLWZpYXQtYnJhbmQtaW4tdGhlLXVzYS_SAWJodHRwczovL2NsZWFudGVjaG5pY2EuY29tLzIwMjQvMDMvMjMvY291bGQtdGhlLW5ldy1maWF0LTUwMGUtcmV2aXZlLXRoZS1maWF0LWJyYW5kLWluLXRoZS11c2EvYW1wLw?hl=en-GB&gl=GB&ceid=GB%3Aen', '2024-03-23T16:07:58Z')\n",
      "('https://news.google.com/articles/CBMiaGh0dHBzOi8vd3d3Lm1vYmlsaXR5b3V0bG9vay5jb20vbmV3cy9maXJzdC1zdGVsbGFudGlzLWJldi1maWF0LTUwMGUtcHJvZHVjdGlvbi1zdGFydHMtZm9yLW5vcnRoLWFtZXJpY2Ev0gEA?hl=en-GB&gl=GB&ceid=GB%3Aen', '2024-02-22T08:00:00Z')\n",
      "('https://news.google.com/articles/CBMinQJodHRwOi8vd3d3Lm1zbi5jb20vZW4tdXMvYXV0b3Mvb3RoZXIvZmlhdC01MDBlLWdpb3JnaW8tYXJtYW5pLWlzLXRoZS1tb3N0LWZhc2hpb25hYmxlLWV2LW1vbmV5LWNhbi1idXkvYXItQkIxcTJVVTg_aXRlbT1mbGlnaHRzcHJnLXRpcHN1YnNjLXYxYSUzRmxvYWRpbiUzRGRlZmF1bHRicm93c2VyJTIwJmFwaXZlcnNpb249djImbm9zZXJ2ZXJjYWNoZT0xJmRvbXNoaW09MSZyZW5kZXJ3ZWJjb21wb25lbnRzPTEmd2NzZW89MSZiYXRjaHNlcnZlcnRlbGVtZXRyeT0xJm5vc2VydmVydGVsZW1ldHJ5PTHSAQA?hl=en-GB&gl=GB&ceid=GB%3Aen', '2024-07-21T21:51:18Z')\n",
      "('https://news.google.com/articles/CBMiQ2h0dHBzOi8vd3d3LmF1dG8xMjMuY29tL2VuL25ld3MvZmlhdC01MDBlLTIwMjQtYXJyaXZlLWNhbmFkYS83MTQzNS_SAUdodHRwczovL3d3dy5hdXRvMTIzLmNvbS9lbi9uZXdzL2FtcC9maWF0LTUwMGUtMjAyNC1hcnJpdmUtY2FuYWRhLzcxNDM1Lw?hl=en-GB&gl=GB&ceid=GB%3Aen', '2024-05-07T07:00:00Z')\n",
      "('https://news.google.com/articles/CBMiUWh0dHBzOi8vamFsb3BuaWsuY29tL2ZpYXQtd2FudHMtdG8tdHJlYXQtNTAwZS1sYXVuY2hlcy1saWtlLXNob2UtZHJvcHMtMTg1MTE4MDIyN9IBAA?hl=en-GB&gl=GB&ceid=GB%3Aen', '2024-01-19T08:00:00Z')\n",
      "('https://news.google.com/articles/CBMiggFodHRwczovL3RmbGNhci5jb20vMjAyNC8wNC9hc2stbmF0aGFuLXRoZS1raWEtdGFzbWFuLXBpY2t1cC1haW50LW5vLXNhbnRhLWNydXotZmlhdC01MDBlcy1wcmljaW5nLWFuZC13aGF0cy13aXRoLXRoZS00cnVubmVyLWhhdGUv0gEA?hl=en-GB&gl=GB&ceid=GB%3Aen', '2024-04-14T07:00:00Z')\n",
      "('https://news.google.com/articles/CBMia2h0dHBzOi8vd3d3LmRidXNpbmVzcy5jb20vZGFpbHktbmV3cy9zdGVsbGFudGlzLWZpcnN0LWFsbC1lbGVjdHJpYy1tb2RlbC1maWF0LTUwMGUtcm9sbHMtb2ZmLWxpbmUtaW4taXRhbHkv0gEA?hl=en-GB&gl=GB&ceid=GB%3Aen', '2024-02-29T08:00:00Z')\n",
      "('https://news.google.com/articles/CBMihgFodHRwczovL3d3dy5jYXJzY29vcHMuY29tLzIwMjMvMTIvc3RlbGxhbnRpcy1wYXJ0bmVycy13aXRoLWFtcGxlLWZvci1iYXR0ZXJ5LXN3YXBwaW5nLXdpbGwtc3RhcnQtd2l0aC1maWF0LTUwMGUtZW1iYXJnby1kZWMtNy0xMGFtLWV0L9IBAA?hl=en-GB&gl=GB&ceid=GB%3Aen', '2023-12-07T08:00:00Z')\n"
     ]
    }
   ],
   "source": [
    "#*Retrieve links from Google News*\n",
    "\n",
    "# Find all the elements containing the URLs of the articles\n",
    "articles500_links = driver.find_elements(By.XPATH, \"//a[@class='WwrzSb']\")\n",
    "\n",
    "# Extract the URLs from those elements\n",
    "articles500_urls = [link.get_attribute('href') for link in articles500_links]\n",
    "\n",
    "# Extract corresponding times of the articles <time class=\"hvbAAd\" datetime=\"2024-03-05T08:00:00Z\">5 Mar</time>\n",
    "articles500_times = driver.find_elements(By.XPATH, \"//time[@class='hvbAAd']\")\n",
    "articles500_times = [time.get_attribute('datetime') for time in articles500_times]\n",
    "\n",
    "# Make a list of url and corresponding time\n",
    "articles500_info = list(zip(articles500_urls, articles500_times))\n",
    "\n",
    "# Print the URLs\n",
    "for element in articles500_info:\n",
    "    print(element)"
   ]
  },
  {
   "cell_type": "code",
   "execution_count": 17,
   "metadata": {},
   "outputs": [
    {
     "data": {
      "text/plain": [
       "[('https://news.google.com/articles/CBMiSGh0dHBzOi8vd3d3LmNpbmNoLmNvLnVrL2d1aWRlcy9jaG9vc2luZy1hLWNhci93aHktYXJlLWZpYXQtNTAwZS1zby1jaGVhcNIBAA?hl=en-GB&gl=GB&ceid=GB%3Aen',\n",
       "  '2024-07-29T10:06:58Z'),\n",
       " ('https://news.google.com/articles/CBMib2h0dHBzOi8vd3d3LmF1dG9leHByZXNzLmNvLnVrL2ZpYXQvNTAwLzM2Mzg1My9saW1pdGVkLWVkaXRpb24tZmlhdC01MDBlLWdpb3JnaW8tYXJtYW5pLWVkaXRpb24tb25lLWZhc2hpb25pc3Rhc9IBAA?hl=en-GB&gl=GB&ceid=GB%3Aen',\n",
       "  '2024-07-23T11:32:45Z'),\n",
       " ('https://news.google.com/articles/CBMilQFodHRwczovL2NhcmRlYWxlcm1hZ2F6aW5lLmNvLnVrL3B1Ymxpc2gvanVsLTI3LXBheS1oaWtlcy1mb3ItcHVibGljLXNlY3Rvci1leHBlY3RlZC1pbnRlcmVzdC1yYXRlLWRlY2lzaW9uLW5leHQtd2Vlay1hcm1hbmktZmlhdC01MDBlLXJldmVhbGVkLzMwNTY2NdIBAA?hl=en-GB&gl=GB&ceid=GB%3Aen',\n",
       "  '2024-07-27T05:59:31Z'),\n",
       " ('https://news.google.com/articles/CBMihQFodHRwczovL3d3dy5zaHJvcHNoaXJlc3Rhci5jb20vbmV3cy9tb3RvcnMvMjAyNC8wNy8yNi9maWF0LWNlbGVicmF0ZXMtaXRzLTEyNXRoLWFubml2ZXJzYXJ5LXdpdGgtZXhjbHVzaXZlLWdpb3JnaW8tYXJtYW5pLTUwMGUtbW9kZWwv0gEA?hl=en-GB&gl=GB&ceid=GB%3Aen',\n",
       "  '2024-07-26T11:15:16Z')]"
      ]
     },
     "execution_count": 17,
     "metadata": {},
     "output_type": "execute_result"
    }
   ],
   "source": [
    "# Have a look at the first 4 articles\n",
    "articles500_info[:4]"
   ]
  },
  {
   "cell_type": "code",
   "execution_count": 39,
   "metadata": {},
   "outputs": [
    {
     "data": {
      "text/plain": [
       "99"
      ]
     },
     "execution_count": 39,
     "metadata": {},
     "output_type": "execute_result"
    }
   ],
   "source": [
    "# Check the number of articles\n",
    "len(articles500_info)"
   ]
  },
  {
   "cell_type": "code",
   "execution_count": 18,
   "metadata": {},
   "outputs": [
    {
     "name": "stdout",
     "output_type": "stream",
     "text": [
      "Scraping complete. Data saved to articles.csv\n",
      "                                                 URL             Published  \\\n",
      "0  https://news.google.com/articles/CBMiSGh0dHBzO...  2024-07-29T10:06:58Z   \n",
      "1  https://news.google.com/articles/CBMiSGh0dHBzO...  2024-07-29T10:06:58Z   \n",
      "2  https://news.google.com/articles/CBMiSGh0dHBzO...  2024-07-29T10:06:58Z   \n",
      "3  https://news.google.com/articles/CBMiSGh0dHBzO...  2024-07-29T10:06:58Z   \n",
      "4  https://news.google.com/articles/CBMiSGh0dHBzO...  2024-07-29T10:06:58Z   \n",
      "\n",
      "                                                Text  \n",
      "0  Price reductions on selected cars, from £250 -...  \n",
      "1                                         My Profile  \n",
      "2  A breakdown of the electric Fiat 500's prices ...  \n",
      "3  The Fiat 500 electric’s price makes it one of ...  \n",
      "4  With affordable new and used prices, it’s hard...  \n"
     ]
    }
   ],
   "source": [
    "articles_500e = []\n",
    "# Loop through the URLs\n",
    "for url, ptime in articles500_info:\n",
    "    driver.get(url)  # Open the URL\n",
    "    # Accept cookies if the button exists\n",
    "    try:\n",
    "        cookie = driver.find_element(By.XPATH, '//button[contains(@class,\"VfPpkd-LgbsSe VfPpkd-LgbsSe-OWXEXe-k8QpJ VfPpkd-LgbsSe-OWXEXe-dgl2Hf nCP5yc AjY5Oe DuMIQc LQeN7 XWZjwc\")]')\n",
    "        cookie.click()\n",
    "        time.sleep(3)  # Wait for the cookies modal to disappear\n",
    "    except:\n",
    "        pass  # Do nothing in the except part\n",
    "    \n",
    "    time.sleep(3)  # Allow the page some time to fully load\n",
    "        \n",
    "    # Parse the HTML of the page with BeautifulSoup\n",
    "    soup = BeautifulSoup(driver.page_source, \"html.parser\")\n",
    "        \n",
    "    # Find all the elements that are paragraph HTML elements\n",
    "    paragraphs = soup.find_all('p')\n",
    "        \n",
    "    # Extract the text from each paragraph and append each as a separate data point\n",
    "    for para in paragraphs:\n",
    "        para_text = para.get_text()\n",
    "        articles_500e.append([url, ptime, para_text])\n",
    "\n",
    "# Close the driver\n",
    "driver.quit()\n",
    "\n",
    "# Create a DataFrame and save it to a CSV file\n",
    "articles_500e_original = pd.DataFrame(articles_500e, columns=['URL', 'Published', 'Text'])\n",
    "\n",
    "print(\"Scraping complete. Data saved to articles.csv\")\n",
    "print(articles_500e_original.head())\n",
    "\n",
    "# quit the browser\n",
    "driver.quit()"
   ]
  },
  {
   "cell_type": "markdown",
   "metadata": {},
   "source": [
    "### 1.2.2 Cleaning"
   ]
  },
  {
   "cell_type": "code",
   "execution_count": 19,
   "metadata": {},
   "outputs": [
    {
     "name": "stdout",
     "output_type": "stream",
     "text": [
      "4417\n"
     ]
    }
   ],
   "source": [
    "# copy to clean the data\n",
    "articles_500e_process = articles_500e_original.copy().drop_duplicates().dropna()\n",
    "print(len(articles_500e_process))"
   ]
  },
  {
   "cell_type": "code",
   "execution_count": 20,
   "metadata": {},
   "outputs": [],
   "source": [
    "# clean rows that have only one word in 'Text' column\n",
    "articles_500e_process = articles_500e_process[articles_500e_process['Text'].str.split().str.len() > 1]"
   ]
  },
  {
   "cell_type": "code",
   "execution_count": 21,
   "metadata": {},
   "outputs": [],
   "source": [
    "# clean rows that mention date\n",
    "articles_500e_process = articles_500e_process[~articles_500e_process['Text'].str.contains(r'\\d{4}-\\d{2}-\\d{2}', regex=True)]\n",
    "# mention date in format Month 01, 2023\n",
    "articles_500e_process = articles_500e_process[~articles_500e_process['Text'].str.contains(r'[a-zA-Z]+\\s\\d{2},\\s\\d{4}', regex=True)]\n",
    "# mention date in format 01 Month 2023\n",
    "articles_500e_process = articles_500e_process[~articles_500e_process['Text'].str.contains(r'\\d{2}\\s[a-zA-Z]+\\s\\d{4}', regex=True)]\n",
    "articles_500e_process = articles_500e_process[~articles_500e_process['Text'].str.contains(r'[a-zA-Z]+\\s\\d{1},\\s\\d{4}', regex=True)]\n",
    "# mention date in format Month 01, 2023\n",
    "articles_500e_process = articles_500e_process[~articles_500e_process['Text'].str.contains(r'[a-zA-Z]+\\s\\d{2},\\s\\d{4}', regex=True)]\n",
    "# mention date in format 01 Month 2023\n",
    "articles_500e_process = articles_500e_process[~articles_500e_process['Text'].str.contains(r'\\d{2}\\s[a-zA-Z]+\\s\\d{4}', regex=True)]\n",
    "articles_500e_process = articles_500e_process[~articles_500e_process['Text'].str.contains(r'[a-zA-Z]+\\s\\d{1},\\s\\d{4}', regex=True)]\n",
    "\n",
    "patterns500e_list  = [\n",
    "    \"chief auto correspondent\", \"Terms of Service\",\"rejected\", \"User accounts\",\"ice cream\",\"October report\",\"Bryce Gaton\",\"search keywords\", \"Bronwyn O'Neill\",\n",
    "    \"20-something Joy\", \"Fusio\", \"days ago\",\"Deal of the Day\",\"BMW\",\"Air Jordans\", \"what this bit even is\",\"this is hilarious\", \"sort of worth writing about\",\n",
    "    \"Do The Right Thing\",\"Buggin’ Out\",\"carpenter\",\"Neopolitan\", \"matching i3\", \"legend of unspoken value\", \"WOW\",\"homepage\",\"consent\",\n",
    "    \"a good ad\",\"on a dealer lot\",\"Freddie Fazbear’s\",\"Torchinski\", \"Instagram\", \"quick reply\", \"stupid electric door handles\",\"Tyrese Maxey\", \n",
    "    \"NYC is one of the few markets\", \"rich old folks\", \"MIL\", \"housing development\", \"perfect for her\",\"buying, selling and servicing\",\"power user\",\n",
    "    \"888-776-0942\", \"— Agent009\", \"FIM\",\"Luca Ciferri\",\"modal window.\", \"Read: Best Home EV Chargers for 2024\", \"These technologies are needed\", \"share this article\",\n",
    "    \"These technologies allow\",\"0-60 performance, price\", \"Ford \",  \"Trump\", \"Read Top Gear’s\",\"Melinda French\",\"Ralph Gilles\",\"Stacy M. Brown\",  \"felony\",\n",
    "    \"Homebuyers\",\"District Attorney\", \"Oakland\", \"Toyota\", \"Police\", \"Chevrolet\", \"Send us a letter\", \"knowledge and connections\", \"Detroit\", \"LOS ANGELES\", \"Democrats\",\n",
    "    \"SoCal\",\"Seattle\",  \"Corsa\", \"Jeep\", \"France\", \"Fiat Topolino\",\"Renault\", \"Mobilize Duo\", \"Consider our horses\", \"Dacia\", \"full review here\", \"Volkswagen\", \"You May Also Like\",\n",
    "    \"F-RAM in xEV\", \"Virtual Twin\", \"Android Automotive\", \"The Road to Autonomous\", \"Twitter\", \"Ferrari\", \"Hummer\", \"Tesla\", \"Commercial charging cables\", \"It's a simple but unsettling answer\", \n",
    "    \"Volvo\", \"New Products & Services\", \"Acura\", \"Honda\", \"Nissan\", \"See the Best Deals\", \"your credit situation\", \"travel photography\", \"fellow photographers\",\n",
    "    \"unlimited access\",\"Enjoy your first month\",\"Digital Camera World\", \"APR Deals\", \"Are you driven and customer-focused?\",\"Do you have a natural ability to build relationships?\",\n",
    "    \"Stan Miller Inc\", \"Apartment Manager\", \"Government Positions\", \"crime story\", \"Glenwood Springs\", \"submit\", \"google news\", \"sign up\", \"summit\", \"visibility\", \"sign on\", \"sign on\",\n",
    "    \"try first month\", \"reporting by\", \"editing by\", \"posts by\", \"Jonathan\",\"thread\",\"Terms & Conditions\", \"share your info\",\"eDrive Stores\",\"Latest Report Highlights\",\"Zinc Battery\",\n",
    "    \"Trade Show\",\"More photo\",\"More latest\",\"View details\",\"Show partners\",\"Share this article\",\"AUBURN HILLS\",\"Breaking News\",\"National Correspondent\",\"@\",\"NNPA\",\"Roosevelt\",\n",
    "    \"will make a difference\",\"Legal Ad\",\"Legal Ads\",\"Farm and Ranch\",\"Commercial Print\",\"Work for us\",\"aspen\",\"Printing Press\",\n",
    "    \"Manage push notifications\",\"auto connected car news\",\"Site or app\",\"Be the first to post\"\n",
    "]\n",
    "\n",
    "\n",
    "# combine the patterns\n",
    "patterns500e = patterns500e_list + patterns600e\n",
    "\n",
    "# Apply the filters\n",
    "for pattern in patterns500e:\n",
    "    articles_500e_process = articles_500e_process[~articles_500e_process['Text'].str.contains(pattern, case=False, na=False)]\n",
    "\n",
    "# clean erows containing 3 dots '...' in a row\n",
    "articles_500e_process = articles_500e_process[~articles_500e_process['Text'].str.contains(r'\\.\\.\\.', regex=True)]\n",
    "\n",
    "# clean rows IF (consists of 3 words ) AND (includes  'by')\n",
    "for index, row in articles_500e_process.iterrows():\n",
    "    # if there are 3 words in the text and ('by' or 'By') is in the text, drop the row\n",
    "    if len(row['Text'].split()) == 3 and 'by' in row['Text'].lower():\n",
    "        articles_500e_process.drop(index, inplace=True)\n",
    "\n",
    "# drop if only 2 words in the text\n",
    "articles_500e_process = articles_500e_process[articles_500e_process['Text'].str.split().str.len() > 2]\n",
    "\n",
    "# clean rows IF (consists of less than 4 words) AND (includes  ':')\n",
    "for index, row in articles_500e_process.iterrows():\n",
    "    # if there are less than 4 words in the text and ':' is in the text, drop the row\n",
    "    if len(row['Text'].split()) <= 6 and ':' in row['Text']:\n",
    "        articles_500e_process.drop(index, inplace=True)"
   ]
  },
  {
   "cell_type": "code",
   "execution_count": 22,
   "metadata": {},
   "outputs": [
    {
     "name": "stdout",
     "output_type": "stream",
     "text": [
      "9366 rows in original dataset\n",
      "8675 rows dropped after cleaning\n",
      "691 rows left after cleaning\n"
     ]
    }
   ],
   "source": [
    "print(len(articles_500e_original), 'rows in original dataset')\n",
    "print(len(articles_500e_original) - len(articles_500e_process), 'rows dropped after cleaning')\n",
    "print(len(articles_500e_process), 'rows left after cleaning')"
   ]
  },
  {
   "cell_type": "code",
   "execution_count": 42,
   "metadata": {},
   "outputs": [
    {
     "name": "stdout",
     "output_type": "stream",
     "text": [
      "Number of rows in 500e - Articles:  87\n",
      "First 5 rows in 500e - Articles:\n",
      "\n",
      "                                                 URL  \\\n",
      "0  https://news.google.com/articles/CBMiKGh0dHBzO...   \n",
      "1  https://news.google.com/articles/CBMiLWh0dHBzO...   \n",
      "2  https://news.google.com/articles/CBMiLmh0dHBzO...   \n",
      "3  https://news.google.com/articles/CBMiMmh0dHBzO...   \n",
      "4  https://news.google.com/articles/CBMiNmh0dHBzO...   \n",
      "\n",
      "                                                Text             Published  \n",
      "0  Fiat made the 2013 500e specifically for the U...  2023-11-07T08:00:00Z  \n",
      "1  Save Money. Use the U.S. News Best Price Progr...  2024-07-11T07:00:00Z  \n",
      "2  2024 Fiat 500e (Photo provided by Fiat) La Dol...  2024-07-24T08:30:00Z  \n",
      "3  The Fiat 500e not only offers the lowest MSRP ...  2024-05-08T07:00:00Z  \n",
      "4  See also: FIAT 500e: Electric Icon Arrives in ...  2024-02-15T08:00:00Z  \n"
     ]
    }
   ],
   "source": [
    "# Combine paragraphs of the same article\n",
    "# Group by 'URL' and concatenate text in the same group\n",
    "articles500_concatenated = articles_500e_process.groupby('URL').agg({'Text': ' '.join, 'Published': 'first'}).reset_index()\n",
    "\n",
    "# Display the first few rows to verify\n",
    "print('Number of rows in 500e - Articles: ', len(articles500_concatenated))\n",
    "print('First 5 rows in 500e - Articles:\\n')\n",
    "print(articles500_concatenated.head())"
   ]
  },
  {
   "cell_type": "code",
   "execution_count": 24,
   "metadata": {},
   "outputs": [],
   "source": [
    "# Rename the columns for consistency\n",
    "# rename URL to ID\n",
    "articles500_concatenated.rename(columns={'URL': 'ID'}, inplace=True)\n",
    "# Rename Published to Date\n",
    "articles500_concatenated.rename(columns={'Published': 'Date'}, inplace=True)\n",
    "# Date to YYYY-MM-DD without time dt.strftime('%Y-%m-%d')\n",
    "articles500_concatenated['Date'] = pd.to_datetime(articles500_concatenated['Date']).dt.strftime('%Y-%m-%d')"
   ]
  },
  {
   "cell_type": "code",
   "execution_count": 25,
   "metadata": {},
   "outputs": [],
   "source": [
    "# saving the cleaned data\n",
    "articles500e = articles500_concatenated.copy()"
   ]
  },
  {
   "cell_type": "markdown",
   "metadata": {},
   "source": [
    "# 2. Combining Opinion Leaders Data"
   ]
  },
  {
   "cell_type": "markdown",
   "metadata": {},
   "source": [
    "## 2.1 600e - Opinion Leaders"
   ]
  },
  {
   "cell_type": "code",
   "execution_count": 46,
   "metadata": {},
   "outputs": [],
   "source": [
    "transcripts600e = pd.read_csv('Transcript_600e.csv')\n",
    "# rename Transcript to Text\n",
    "transcripts600e = transcripts600e.rename(columns={'Transcript': 'Text'})\n",
    "# rename Video ID to ID \n",
    "transcripts600e = transcripts600e.rename(columns={'VideoID': 'ID'})"
   ]
  },
  {
   "cell_type": "code",
   "execution_count": 48,
   "metadata": {},
   "outputs": [
    {
     "name": "stdout",
     "output_type": "stream",
     "text": [
      "Number of rows in the 600e - Opinion Leaders:  99\n",
      "First 5 rows of the 600e - Opinion Leaders: \n",
      "                                                   ID  \\\n",
      "0  https://news.google.com/articles/CBMiHmh0dHBzO...   \n",
      "1  https://news.google.com/articles/CBMiJ2h0dHBzO...   \n",
      "2  https://news.google.com/articles/CBMiJ2h0dHBzO...   \n",
      "3  https://news.google.com/articles/CBMiKWh0dHBzO...   \n",
      "4  https://news.google.com/articles/CBMiNGh0dHBzO...   \n",
      "\n",
      "                                                Text        Date Title  \\\n",
      "0  JAKARTA - Fiat recently revealed their latest ...  2023-12-29   NaN   \n",
      "1  Customers asked for more crossovers, and Fiat ...  2023-08-21   NaN   \n",
      "2  \\nRelatively affordable to buy. Very useable 2...  2023-09-27   NaN   \n",
      "3  4.0 out of 5 The ‘Frappuccino' of the small el...  2023-09-22   NaN   \n",
      "4  There are two specifications available on the ...  2024-03-05   NaN   \n",
      "\n",
      "  Channel Name  \n",
      "0          NaN  \n",
      "1          NaN  \n",
      "2          NaN  \n",
      "3          NaN  \n",
      "4          NaN  \n"
     ]
    }
   ],
   "source": [
    "# combine vertically data frames by ID and TEXT\n",
    "opinionLeaders600e = pd.concat([articles600e, transcripts600e], axis=0)\n",
    "opinionLeaders600e = opinionLeaders600e.reset_index(drop=True)\n",
    "print('Number of rows in the 600e - Opinion Leaders: ',len(opinionLeaders600e))\n",
    "print('First 5 rows of the 600e - Opinion Leaders: \\n', opinionLeaders600e.head())"
   ]
  },
  {
   "cell_type": "code",
   "execution_count": 29,
   "metadata": {},
   "outputs": [
    {
     "name": "stdout",
     "output_type": "stream",
     "text": [
      "Empty DataFrame\n",
      "Columns: [ID, Text, Date, Title, Channel Name]\n",
      "Index: []\n",
      "Empty DataFrame\n",
      "Columns: [ID, Text, Date, Title, Channel Name]\n",
      "Index: []\n",
      "Empty DataFrame\n",
      "Columns: [ID, Text, Date, Title, Channel Name]\n",
      "Index: []\n"
     ]
    }
   ],
   "source": [
    "# check if emoty ID and Text exist\n",
    "print(opinionLeaders600e[opinionLeaders600e['ID'].isnull()])\n",
    "print(opinionLeaders600e[opinionLeaders600e['Text'].isnull()])\n",
    "print(opinionLeaders600e[opinionLeaders600e['Date'].isnull()])"
   ]
  },
  {
   "cell_type": "code",
   "execution_count": 52,
   "metadata": {},
   "outputs": [
    {
     "name": "stdout",
     "output_type": "stream",
     "text": [
      "Number of rows in the 600e - Opinion Leaders:  99\n"
     ]
    }
   ],
   "source": [
    "# Number of rows in the 600e - Opinion Leaders\n",
    "print('Number of rows in the 600e - Opinion Leaders: ', len(opinionLeaders600e))"
   ]
  },
  {
   "cell_type": "code",
   "execution_count": 30,
   "metadata": {},
   "outputs": [],
   "source": [
    "# Save to csv\n",
    "opinionLeaders600e.to_csv('600e - Opinion Leaders.csv', index=False)"
   ]
  },
  {
   "cell_type": "markdown",
   "metadata": {},
   "source": [
    "## 2.2 500e - Opinion Leaders"
   ]
  },
  {
   "cell_type": "code",
   "execution_count": 32,
   "metadata": {},
   "outputs": [],
   "source": [
    "transcripts500e = pd.read_csv('Transcript_600e.csv')\n",
    "# rename Transcript to Text\n",
    "transcripts500e = transcripts500e.rename(columns={'Transcript': 'Text'})\n",
    "# rename Video ID to ID \n",
    "transcripts500e = transcripts500e.rename(columns={'VideoID': 'ID'})"
   ]
  },
  {
   "cell_type": "code",
   "execution_count": 33,
   "metadata": {},
   "outputs": [
    {
     "name": "stdout",
     "output_type": "stream",
     "text": [
      "Number of rows in the 500e - Opinion Leaders:  102\n",
      "First 5 rows of the 500e - Opinion Leaders: \n",
      "                                                   ID  \\\n",
      "0  https://news.google.com/articles/CBMiKGh0dHBzO...   \n",
      "1  https://news.google.com/articles/CBMiLWh0dHBzO...   \n",
      "2  https://news.google.com/articles/CBMiLmh0dHBzO...   \n",
      "3  https://news.google.com/articles/CBMiMmh0dHBzO...   \n",
      "4  https://news.google.com/articles/CBMiNmh0dHBzO...   \n",
      "\n",
      "                                                Text        Date Title  \\\n",
      "0  Fiat made the 2013 500e specifically for the U...  2023-11-07   NaN   \n",
      "1  Save Money. Use the U.S. News Best Price Progr...  2024-07-11   NaN   \n",
      "2  2024 Fiat 500e (Photo provided by Fiat) La Dol...  2024-07-24   NaN   \n",
      "3  The Fiat 500e not only offers the lowest MSRP ...  2024-05-08   NaN   \n",
      "4  See also: FIAT 500e: Electric Icon Arrives in ...  2024-02-15   NaN   \n",
      "\n",
      "  Channel Name  \n",
      "0          NaN  \n",
      "1          NaN  \n",
      "2          NaN  \n",
      "3          NaN  \n",
      "4          NaN  \n"
     ]
    }
   ],
   "source": [
    "# combine vertically data frames by ID and TEXT\n",
    "opinionLeaders500e = pd.concat([articles500e, transcripts500e], axis=0)\n",
    "opinionLeaders500e = opinionLeaders500e.reset_index(drop=True)\n",
    "print('Number of rows in the 500e - Opinion Leaders: ',len(opinionLeaders500e))\n",
    "print('First 5 rows of the 500e - Opinion Leaders: \\n', opinionLeaders500e.head())"
   ]
  },
  {
   "cell_type": "code",
   "execution_count": 34,
   "metadata": {},
   "outputs": [
    {
     "name": "stdout",
     "output_type": "stream",
     "text": [
      "Empty DataFrame\n",
      "Columns: [ID, Text, Date, Title, Channel Name]\n",
      "Index: []\n",
      "Empty DataFrame\n",
      "Columns: [ID, Text, Date, Title, Channel Name]\n",
      "Index: []\n",
      "Empty DataFrame\n",
      "Columns: [ID, Text, Date, Title, Channel Name]\n",
      "Index: []\n"
     ]
    }
   ],
   "source": [
    "# check if emoty ID and Text exist\n",
    "print(opinionLeaders500e[opinionLeaders500e['ID'].isnull()])\n",
    "print(opinionLeaders500e[opinionLeaders500e['Text'].isnull()])\n",
    "print(opinionLeaders500e[opinionLeaders500e['Date'].isnull()])"
   ]
  },
  {
   "cell_type": "code",
   "execution_count": 51,
   "metadata": {},
   "outputs": [
    {
     "name": "stdout",
     "output_type": "stream",
     "text": [
      "Number of rows in the 500e - Opinion Leaders:  102\n"
     ]
    }
   ],
   "source": [
    "# Number of rows in the 500e - Opinion Leaders\n",
    "print('Number of rows in the 500e - Opinion Leaders: ', len(opinionLeaders500e))"
   ]
  },
  {
   "cell_type": "code",
   "execution_count": null,
   "metadata": {},
   "outputs": [],
   "source": [
    "# Save to csv\n",
    "opinionLeaders500e.to_csv('500e - Opinion Leaders.csv', index=False)"
   ]
  }
 ],
 "metadata": {
  "kernelspec": {
   "display_name": "jupyter",
   "language": "python",
   "name": "python3"
  },
  "language_info": {
   "codemirror_mode": {
    "name": "ipython",
    "version": 3
   },
   "file_extension": ".py",
   "mimetype": "text/x-python",
   "name": "python",
   "nbconvert_exporter": "python",
   "pygments_lexer": "ipython3",
   "version": "3.10.14"
  }
 },
 "nbformat": 4,
 "nbformat_minor": 2
}
